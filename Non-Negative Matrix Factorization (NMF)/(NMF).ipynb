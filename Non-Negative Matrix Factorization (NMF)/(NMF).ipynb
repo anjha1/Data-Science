{
  "nbformat": 4,
  "nbformat_minor": 0,
  "metadata": {
    "colab": {
      "provenance": [],
      "include_colab_link": true
    },
    "kernelspec": {
      "name": "python3",
      "display_name": "Python 3"
    },
    "language_info": {
      "name": "python"
    }
  },
  "cells": [
    {
      "cell_type": "markdown",
      "metadata": {
        "id": "view-in-github",
        "colab_type": "text"
      },
      "source": [
        "<a href=\"https://colab.research.google.com/github/anjha1/Data-Science/blob/main/Non-Negative%20Matrix%20Factorization%20(NMF)/(NMF).ipynb\" target=\"_parent\"><img src=\"https://colab.research.google.com/assets/colab-badge.svg\" alt=\"Open In Colab\"/></a>"
      ]
    },
    {
      "cell_type": "markdown",
      "source": [
        "# Creating the content as a string\n",
        "content = \"\"\"To determine the order (dimensions) of matrices W and H in Non-Negative Matrix Factorization (NMF), follow these steps:\n",
        "\n",
        "### Step 1: Understanding the Dimensions\n",
        "- Suppose the original matrix Meas has the dimensions:  \n",
        "  Meas : m × n\n",
        "  where:\n",
        "  - m = Number of rows (samples)\n",
        "  - n = Number of columns (features)\n",
        "- You choose the number of components k for factorization using NMF.\n",
        "\n",
        "### Step 2: Matrix Dimensions After Factorization\n",
        "When using NMF, it factorizes the matrix into two matrices:\n",
        "\n",
        "1. Matrix W (Basis Matrix):  \n",
        "W : m × k\n",
        "- m = Same number of rows as Meas\n",
        "- k = Number of components (you choose it)\n",
        "  \n",
        "2. Matrix H (Coefficient Matrix):  \n",
        "H : k × n\n",
        "- k = Number of components\n",
        "- n = Same number of columns as Meas\n",
        "\n",
        "### Step 3: Formula for Reconstruction\n",
        "The relationship between these matrices is given by:  \n",
        "Meas ≈ W · H\n",
        "Where:\n",
        "- W · H results in a matrix of size m × n, matching the original matrix.\n",
        "\n",
        "---\n",
        "\n",
        "### Example 1: Short Matrix\n",
        "\n",
        "- Meas is a 3 × 4 matrix.\n",
        "- You choose k = 2.\n",
        "  \n",
        "Matrix W:  \n",
        "W : 3 × 2\n",
        "\n",
        "Matrix H:  \n",
        "H : 2 × 4\n",
        "\n",
        "Multiplying them:  \n",
        "3 × 2 · 2 × 4 = 3 × 4\n",
        "\n",
        "---\n",
        "\n",
        "### Example 2: Fisher Iris Data\n",
        "\n",
        "- Meas is a 150 × 4 matrix (150 samples, 4 features).\n",
        "- k = 2 components.\n",
        "\n",
        "Matrix W:  \n",
        "W : 150 × 2\n",
        "\n",
        "Matrix H:  \n",
        "H : 2 × 4\n",
        "\n",
        "Multiplying them:  \n",
        "150 × 2 · 2 × 4 = 150 × 4\n",
        "\n",
        "This reconstructed matrix should approximately match the original data. If you'd like further examples or explanations, feel free to ask!\n",
        "\"\"\"\n",
        "\n"
      ],
      "metadata": {
        "id": "B175sEmSkl-P"
      }
    },
    {
      "cell_type": "code",
      "source": [
        "import numpy as np\n",
        "from sklearn.decomposition import NMF"
      ],
      "metadata": {
        "id": "twXQlw-Aiclt"
      },
      "execution_count": null,
      "outputs": []
    },
    {
      "cell_type": "code",
      "source": [
        "# 6(a) Short Matrix\n",
        "Meas = np.array([\n",
        "    [5.1, 3.5, 1.4, 0.2],\n",
        "    [4.9, 3.0, 1.4, 0.2],\n",
        "    [4.7, 3.2, 1.3, 0.2]\n",
        "])\n",
        "Meas"
      ],
      "metadata": {
        "colab": {
          "base_uri": "https://localhost:8080/"
        },
        "id": "pnhuCgAuieiw",
        "outputId": "dce363fd-5ddb-4a90-f599-07dc4132429e"
      },
      "execution_count": null,
      "outputs": [
        {
          "output_type": "execute_result",
          "data": {
            "text/plain": [
              "array([[5.1, 3.5, 1.4, 0.2],\n",
              "       [4.9, 3. , 1.4, 0.2],\n",
              "       [4.7, 3.2, 1.3, 0.2]])"
            ]
          },
          "metadata": {},
          "execution_count": 18
        }
      ]
    },
    {
      "cell_type": "code",
      "source": [
        "# Applying NMF with 2 components\n",
        "nmf_model = NMF(n_components=2, init='random', random_state=42)\n",
        "W = nmf_model.fit_transform(Meas)\n",
        "H = nmf_model.components_"
      ],
      "metadata": {
        "id": "M2Ndg3wZihjq"
      },
      "execution_count": null,
      "outputs": []
    },
    {
      "cell_type": "code",
      "source": [
        "# Reconstructed matrix\n",
        "L = np.dot(W, H)"
      ],
      "metadata": {
        "id": "sxbUK285imDb"
      },
      "execution_count": null,
      "outputs": []
    },
    {
      "cell_type": "code",
      "source": [
        "print(\"Original Matrix (Meas):\\n\", Meas)"
      ],
      "metadata": {
        "colab": {
          "base_uri": "https://localhost:8080/"
        },
        "id": "ojAxquoHipVP",
        "outputId": "ce8fd808-6569-4086-c7d0-babd6615fa41"
      },
      "execution_count": null,
      "outputs": [
        {
          "output_type": "stream",
          "name": "stdout",
          "text": [
            "Original Matrix (Meas):\n",
            " [[5.1 3.5 1.4 0.2]\n",
            " [4.9 3.  1.4 0.2]\n",
            " [4.7 3.2 1.3 0.2]]\n"
          ]
        }
      ]
    },
    {
      "cell_type": "code",
      "source": [
        "print(\"W Matrix:\\n\", W)"
      ],
      "metadata": {
        "colab": {
          "base_uri": "https://localhost:8080/"
        },
        "id": "Fi3Gg4ftirpt",
        "outputId": "eb9fa3a8-ce86-47fa-a162-bfbc198307c5"
      },
      "execution_count": null,
      "outputs": [
        {
          "output_type": "stream",
          "name": "stdout",
          "text": [
            "W Matrix:\n",
            " [[0.40014092 1.02674731]\n",
            " [0.621223   0.47772346]\n",
            " [0.38597493 0.90983001]]\n"
          ]
        }
      ]
    },
    {
      "cell_type": "code",
      "source": [
        "print(\"H Matrix:\\n\", H)"
      ],
      "metadata": {
        "colab": {
          "base_uri": "https://localhost:8080/"
        },
        "id": "jgzCU-qSiur2",
        "outputId": "6ecf5676-91a5-4ccc-a426-e32100b336e2"
      },
      "execution_count": null,
      "outputs": [
        {
          "output_type": "stream",
          "name": "stdout",
          "text": [
            "H Matrix:\n",
            " [[5.8094732  3.15278669 1.71843251 0.23932044]\n",
            " [2.70230392 2.17991891 0.69641181 0.10874246]]\n"
          ]
        }
      ]
    },
    {
      "cell_type": "code",
      "source": [
        "print(\"Reconstructed Matrix (L):\\n\", L)"
      ],
      "metadata": {
        "colab": {
          "base_uri": "https://localhost:8080/"
        },
        "id": "76obvPqdiwtD",
        "outputId": "6bbf251d-adf4-49f4-8214-1617bae0ced4"
      },
      "execution_count": null,
      "outputs": [
        {
          "output_type": "stream",
          "name": "stdout",
          "text": [
            "Reconstructed Matrix (L):\n",
            " [[5.09919126 3.49978485 1.40265412 0.20741293]\n",
            " [4.89993234 2.999982   1.40022205 0.20062018]\n",
            " [4.7009482  3.20025225 1.29688822 0.19130884]]\n"
          ]
        }
      ]
    },
    {
      "cell_type": "code",
      "source": [
        "# 6(b) Long Matrix using Fisher Iris dataset\n",
        "from sklearn import datasets\n",
        "iris = datasets.load_iris()\n",
        "meas = iris.data"
      ],
      "metadata": {
        "id": "1_wce7-Ziy0F"
      },
      "execution_count": null,
      "outputs": []
    },
    {
      "cell_type": "code",
      "source": [
        "# Applying NMF with 2 components\n",
        "nmf_model_iris = NMF(n_components=2, init='random', random_state=42)\n",
        "W_iris = nmf_model_iris.fit_transform(meas)\n",
        "H_iris = nmf_model_iris.components_"
      ],
      "metadata": {
        "id": "pg-JA3HNi3sX"
      },
      "execution_count": null,
      "outputs": []
    },
    {
      "cell_type": "code",
      "source": [
        "# Reconstructed matrix\n",
        "L_iris = np.dot(W_iris, H_iris)"
      ],
      "metadata": {
        "id": "thL8OOEOi6B1"
      },
      "execution_count": null,
      "outputs": []
    },
    {
      "cell_type": "code",
      "source": [
        "print(\"\\nOriginal Iris Data Matrix (meas):\\n\", meas[:5])"
      ],
      "metadata": {
        "colab": {
          "base_uri": "https://localhost:8080/"
        },
        "id": "cuMnO9j8i8zl",
        "outputId": "4dc77e99-2190-4208-a347-0346913d4da8"
      },
      "execution_count": null,
      "outputs": [
        {
          "output_type": "stream",
          "name": "stdout",
          "text": [
            "\n",
            "Original Iris Data Matrix (meas):\n",
            " [[5.1 3.5 1.4 0.2]\n",
            " [4.9 3.  1.4 0.2]\n",
            " [4.7 3.2 1.3 0.2]\n",
            " [4.6 3.1 1.5 0.2]\n",
            " [5.  3.6 1.4 0.2]]\n"
          ]
        }
      ]
    },
    {
      "cell_type": "code",
      "source": [
        "print(\"W Matrix for Iris Data:\\n\", W_iris[:5])"
      ],
      "metadata": {
        "colab": {
          "base_uri": "https://localhost:8080/"
        },
        "id": "3mNM8ZzgjAP6",
        "outputId": "8e322733-dd10-432e-e4f3-38bd7a228df6"
      },
      "execution_count": null,
      "outputs": [
        {
          "output_type": "stream",
          "name": "stdout",
          "text": [
            "W Matrix for Iris Data:\n",
            " [[1.52995118 0.14186618]\n",
            " [1.39288444 0.20725808]\n",
            " [1.40311201 0.14017235]\n",
            " [1.34566372 0.22203649]\n",
            " [1.5304409  0.12583602]]\n"
          ]
        }
      ]
    },
    {
      "cell_type": "code",
      "source": [
        "print(\"H Matrix for Iris Data:\\n\", H_iris)"
      ],
      "metadata": {
        "colab": {
          "base_uri": "https://localhost:8080/"
        },
        "id": "fiJccZ0JjCfI",
        "outputId": "5a777fa1-044c-44ce-c1ad-29f94e9c8fa2"
      },
      "execution_count": null,
      "outputs": [
        {
          "output_type": "stream",
          "name": "stdout",
          "text": [
            "H Matrix for Iris Data:\n",
            " [[3.20334813 2.28667568 0.69632093 0.04327065]\n",
            " [1.3708567  0.0541275  2.36939905 0.95290157]]\n"
          ]
        }
      ]
    },
    {
      "cell_type": "code",
      "source": [
        "print(\"Reconstructed Matrix (L_iris):\\n\", L_iris[:5])"
      ],
      "metadata": {
        "colab": {
          "base_uri": "https://localhost:8080/"
        },
        "id": "IPOuBWmAjEv3",
        "outputId": "61c24e20-e7ae-481f-d504-999fbb5391a1"
      },
      "execution_count": null,
      "outputs": [
        {
          "output_type": "stream",
          "name": "stdout",
          "text": [
            "Reconstructed Matrix (L_iris):\n",
            " [[5.09544444 3.50618101 1.40147461 0.20138649]\n",
            " [4.74601489 3.19629334 1.46097168 0.25776757]\n",
            " [4.68681242 3.21604928 1.30914048 0.19428403]\n",
            " [4.61500955 3.08911477 1.46310685 0.26980667]\n",
            " [5.07503814 3.50643317 1.36383376 0.18613252]]\n"
          ]
        }
      ]
    },
    {
      "cell_type": "code",
      "source": [
        "meas[:5]"
      ],
      "metadata": {
        "colab": {
          "base_uri": "https://localhost:8080/"
        },
        "id": "FP-Y64O1m6PC",
        "outputId": "c3d55381-1b18-4f75-90c7-d22a6ccb2318"
      },
      "execution_count": null,
      "outputs": [
        {
          "output_type": "execute_result",
          "data": {
            "text/plain": [
              "array([[5.1, 3.5, 1.4, 0.2],\n",
              "       [4.9, 3. , 1.4, 0.2],\n",
              "       [4.7, 3.2, 1.3, 0.2],\n",
              "       [4.6, 3.1, 1.5, 0.2],\n",
              "       [5. , 3.6, 1.4, 0.2]])"
            ]
          },
          "metadata": {},
          "execution_count": 23
        }
      ]
    },
    {
      "cell_type": "code",
      "source": [
        "# Calculate the element-wise difference\n",
        "matrix_difference = meas - L_iris\n",
        "matrix_difference[:5]  # Display the first 5 rows for a quick view"
      ],
      "metadata": {
        "colab": {
          "base_uri": "https://localhost:8080/"
        },
        "id": "bZb2AUCjmtHG",
        "outputId": "bcb5c367-3123-456b-ecb3-1b84d75379a9"
      },
      "execution_count": null,
      "outputs": [
        {
          "output_type": "execute_result",
          "data": {
            "text/plain": [
              "array([[ 0.00455556, -0.00618101, -0.00147461, -0.00138649],\n",
              "       [ 0.15398511, -0.19629334, -0.06097168, -0.05776757],\n",
              "       [ 0.01318758, -0.01604928, -0.00914048,  0.00571597],\n",
              "       [-0.01500955,  0.01088523,  0.03689315, -0.06980667],\n",
              "       [-0.07503814,  0.09356683,  0.03616624,  0.01386748]])"
            ]
          },
          "metadata": {},
          "execution_count": 20
        }
      ]
    }
  ]
}