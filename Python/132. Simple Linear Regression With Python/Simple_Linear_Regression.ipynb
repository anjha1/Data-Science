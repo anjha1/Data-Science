{
  "nbformat": 4,
  "nbformat_minor": 0,
  "metadata": {
    "colab": {
      "provenance": [],
      "authorship_tag": "ABX9TyOnWw0YrfzfFi4Xc6AiC+ot",
      "include_colab_link": true
    },
    "kernelspec": {
      "name": "python3",
      "display_name": "Python 3"
    },
    "language_info": {
      "name": "python"
    }
  },
  "cells": [
    {
      "cell_type": "markdown",
      "metadata": {
        "id": "view-in-github",
        "colab_type": "text"
      },
      "source": [
        "<a href=\"https://colab.research.google.com/github/anjha1/Data-Science/blob/main/Python/132.%20Simple%20Linear%20Regression%20With%20Python/Simple_Linear_Regression.ipynb\" target=\"_parent\"><img src=\"https://colab.research.google.com/assets/colab-badge.svg\" alt=\"Open In Colab\"/></a>"
      ]
    },
    {
      "cell_type": "markdown",
      "source": [
        "# **Simple Linear Regression**"
      ],
      "metadata": {
        "id": "e99781AwR_0h"
      }
    },
    {
      "cell_type": "code",
      "execution_count": 96,
      "metadata": {
        "id": "DecseBB8R8nj"
      },
      "outputs": [],
      "source": [
        "import pandas as pd\n",
        "import numpy as np\n",
        "import matplotlib.pyplot as plt\n",
        "import seaborn as sns\n",
        "%matplotlib inline"
      ]
    },
    {
      "cell_type": "code",
      "source": [
        "df=pd.read_csv('/content/placement.csv')"
      ],
      "metadata": {
        "id": "py8aDySgTH2z"
      },
      "execution_count": 97,
      "outputs": []
    },
    {
      "cell_type": "code",
      "source": [
        "df.head()"
      ],
      "metadata": {
        "colab": {
          "base_uri": "https://localhost:8080/",
          "height": 206
        },
        "id": "LkiNd3J_TMrW",
        "outputId": "c6e9bd4b-b374-4c7e-f1c8-10214896212e"
      },
      "execution_count": 98,
      "outputs": [
        {
          "output_type": "execute_result",
          "data": {
            "text/plain": [
              "   cgpa  package\n",
              "0  6.89     3.26\n",
              "1  5.12     1.98\n",
              "2  7.82     3.25\n",
              "3  7.42     3.67\n",
              "4  6.94     3.57"
            ],
            "text/html": [
              "\n",
              "  <div id=\"df-58f77c8f-a1be-4ffe-a7d1-5682932a3c1a\" class=\"colab-df-container\">\n",
              "    <div>\n",
              "<style scoped>\n",
              "    .dataframe tbody tr th:only-of-type {\n",
              "        vertical-align: middle;\n",
              "    }\n",
              "\n",
              "    .dataframe tbody tr th {\n",
              "        vertical-align: top;\n",
              "    }\n",
              "\n",
              "    .dataframe thead th {\n",
              "        text-align: right;\n",
              "    }\n",
              "</style>\n",
              "<table border=\"1\" class=\"dataframe\">\n",
              "  <thead>\n",
              "    <tr style=\"text-align: right;\">\n",
              "      <th></th>\n",
              "      <th>cgpa</th>\n",
              "      <th>package</th>\n",
              "    </tr>\n",
              "  </thead>\n",
              "  <tbody>\n",
              "    <tr>\n",
              "      <th>0</th>\n",
              "      <td>6.89</td>\n",
              "      <td>3.26</td>\n",
              "    </tr>\n",
              "    <tr>\n",
              "      <th>1</th>\n",
              "      <td>5.12</td>\n",
              "      <td>1.98</td>\n",
              "    </tr>\n",
              "    <tr>\n",
              "      <th>2</th>\n",
              "      <td>7.82</td>\n",
              "      <td>3.25</td>\n",
              "    </tr>\n",
              "    <tr>\n",
              "      <th>3</th>\n",
              "      <td>7.42</td>\n",
              "      <td>3.67</td>\n",
              "    </tr>\n",
              "    <tr>\n",
              "      <th>4</th>\n",
              "      <td>6.94</td>\n",
              "      <td>3.57</td>\n",
              "    </tr>\n",
              "  </tbody>\n",
              "</table>\n",
              "</div>\n",
              "    <div class=\"colab-df-buttons\">\n",
              "\n",
              "  <div class=\"colab-df-container\">\n",
              "    <button class=\"colab-df-convert\" onclick=\"convertToInteractive('df-58f77c8f-a1be-4ffe-a7d1-5682932a3c1a')\"\n",
              "            title=\"Convert this dataframe to an interactive table.\"\n",
              "            style=\"display:none;\">\n",
              "\n",
              "  <svg xmlns=\"http://www.w3.org/2000/svg\" height=\"24px\" viewBox=\"0 -960 960 960\">\n",
              "    <path d=\"M120-120v-720h720v720H120Zm60-500h600v-160H180v160Zm220 220h160v-160H400v160Zm0 220h160v-160H400v160ZM180-400h160v-160H180v160Zm440 0h160v-160H620v160ZM180-180h160v-160H180v160Zm440 0h160v-160H620v160Z\"/>\n",
              "  </svg>\n",
              "    </button>\n",
              "\n",
              "  <style>\n",
              "    .colab-df-container {\n",
              "      display:flex;\n",
              "      gap: 12px;\n",
              "    }\n",
              "\n",
              "    .colab-df-convert {\n",
              "      background-color: #E8F0FE;\n",
              "      border: none;\n",
              "      border-radius: 50%;\n",
              "      cursor: pointer;\n",
              "      display: none;\n",
              "      fill: #1967D2;\n",
              "      height: 32px;\n",
              "      padding: 0 0 0 0;\n",
              "      width: 32px;\n",
              "    }\n",
              "\n",
              "    .colab-df-convert:hover {\n",
              "      background-color: #E2EBFA;\n",
              "      box-shadow: 0px 1px 2px rgba(60, 64, 67, 0.3), 0px 1px 3px 1px rgba(60, 64, 67, 0.15);\n",
              "      fill: #174EA6;\n",
              "    }\n",
              "\n",
              "    .colab-df-buttons div {\n",
              "      margin-bottom: 4px;\n",
              "    }\n",
              "\n",
              "    [theme=dark] .colab-df-convert {\n",
              "      background-color: #3B4455;\n",
              "      fill: #D2E3FC;\n",
              "    }\n",
              "\n",
              "    [theme=dark] .colab-df-convert:hover {\n",
              "      background-color: #434B5C;\n",
              "      box-shadow: 0px 1px 3px 1px rgba(0, 0, 0, 0.15);\n",
              "      filter: drop-shadow(0px 1px 2px rgba(0, 0, 0, 0.3));\n",
              "      fill: #FFFFFF;\n",
              "    }\n",
              "  </style>\n",
              "\n",
              "    <script>\n",
              "      const buttonEl =\n",
              "        document.querySelector('#df-58f77c8f-a1be-4ffe-a7d1-5682932a3c1a button.colab-df-convert');\n",
              "      buttonEl.style.display =\n",
              "        google.colab.kernel.accessAllowed ? 'block' : 'none';\n",
              "\n",
              "      async function convertToInteractive(key) {\n",
              "        const element = document.querySelector('#df-58f77c8f-a1be-4ffe-a7d1-5682932a3c1a');\n",
              "        const dataTable =\n",
              "          await google.colab.kernel.invokeFunction('convertToInteractive',\n",
              "                                                    [key], {});\n",
              "        if (!dataTable) return;\n",
              "\n",
              "        const docLinkHtml = 'Like what you see? Visit the ' +\n",
              "          '<a target=\"_blank\" href=https://colab.research.google.com/notebooks/data_table.ipynb>data table notebook</a>'\n",
              "          + ' to learn more about interactive tables.';\n",
              "        element.innerHTML = '';\n",
              "        dataTable['output_type'] = 'display_data';\n",
              "        await google.colab.output.renderOutput(dataTable, element);\n",
              "        const docLink = document.createElement('div');\n",
              "        docLink.innerHTML = docLinkHtml;\n",
              "        element.appendChild(docLink);\n",
              "      }\n",
              "    </script>\n",
              "  </div>\n",
              "\n",
              "\n",
              "<div id=\"df-82bf9083-19e3-4636-add4-f37e000bafc7\">\n",
              "  <button class=\"colab-df-quickchart\" onclick=\"quickchart('df-82bf9083-19e3-4636-add4-f37e000bafc7')\"\n",
              "            title=\"Suggest charts\"\n",
              "            style=\"display:none;\">\n",
              "\n",
              "<svg xmlns=\"http://www.w3.org/2000/svg\" height=\"24px\"viewBox=\"0 0 24 24\"\n",
              "     width=\"24px\">\n",
              "    <g>\n",
              "        <path d=\"M19 3H5c-1.1 0-2 .9-2 2v14c0 1.1.9 2 2 2h14c1.1 0 2-.9 2-2V5c0-1.1-.9-2-2-2zM9 17H7v-7h2v7zm4 0h-2V7h2v10zm4 0h-2v-4h2v4z\"/>\n",
              "    </g>\n",
              "</svg>\n",
              "  </button>\n",
              "\n",
              "<style>\n",
              "  .colab-df-quickchart {\n",
              "      --bg-color: #E8F0FE;\n",
              "      --fill-color: #1967D2;\n",
              "      --hover-bg-color: #E2EBFA;\n",
              "      --hover-fill-color: #174EA6;\n",
              "      --disabled-fill-color: #AAA;\n",
              "      --disabled-bg-color: #DDD;\n",
              "  }\n",
              "\n",
              "  [theme=dark] .colab-df-quickchart {\n",
              "      --bg-color: #3B4455;\n",
              "      --fill-color: #D2E3FC;\n",
              "      --hover-bg-color: #434B5C;\n",
              "      --hover-fill-color: #FFFFFF;\n",
              "      --disabled-bg-color: #3B4455;\n",
              "      --disabled-fill-color: #666;\n",
              "  }\n",
              "\n",
              "  .colab-df-quickchart {\n",
              "    background-color: var(--bg-color);\n",
              "    border: none;\n",
              "    border-radius: 50%;\n",
              "    cursor: pointer;\n",
              "    display: none;\n",
              "    fill: var(--fill-color);\n",
              "    height: 32px;\n",
              "    padding: 0;\n",
              "    width: 32px;\n",
              "  }\n",
              "\n",
              "  .colab-df-quickchart:hover {\n",
              "    background-color: var(--hover-bg-color);\n",
              "    box-shadow: 0 1px 2px rgba(60, 64, 67, 0.3), 0 1px 3px 1px rgba(60, 64, 67, 0.15);\n",
              "    fill: var(--button-hover-fill-color);\n",
              "  }\n",
              "\n",
              "  .colab-df-quickchart-complete:disabled,\n",
              "  .colab-df-quickchart-complete:disabled:hover {\n",
              "    background-color: var(--disabled-bg-color);\n",
              "    fill: var(--disabled-fill-color);\n",
              "    box-shadow: none;\n",
              "  }\n",
              "\n",
              "  .colab-df-spinner {\n",
              "    border: 2px solid var(--fill-color);\n",
              "    border-color: transparent;\n",
              "    border-bottom-color: var(--fill-color);\n",
              "    animation:\n",
              "      spin 1s steps(1) infinite;\n",
              "  }\n",
              "\n",
              "  @keyframes spin {\n",
              "    0% {\n",
              "      border-color: transparent;\n",
              "      border-bottom-color: var(--fill-color);\n",
              "      border-left-color: var(--fill-color);\n",
              "    }\n",
              "    20% {\n",
              "      border-color: transparent;\n",
              "      border-left-color: var(--fill-color);\n",
              "      border-top-color: var(--fill-color);\n",
              "    }\n",
              "    30% {\n",
              "      border-color: transparent;\n",
              "      border-left-color: var(--fill-color);\n",
              "      border-top-color: var(--fill-color);\n",
              "      border-right-color: var(--fill-color);\n",
              "    }\n",
              "    40% {\n",
              "      border-color: transparent;\n",
              "      border-right-color: var(--fill-color);\n",
              "      border-top-color: var(--fill-color);\n",
              "    }\n",
              "    60% {\n",
              "      border-color: transparent;\n",
              "      border-right-color: var(--fill-color);\n",
              "    }\n",
              "    80% {\n",
              "      border-color: transparent;\n",
              "      border-right-color: var(--fill-color);\n",
              "      border-bottom-color: var(--fill-color);\n",
              "    }\n",
              "    90% {\n",
              "      border-color: transparent;\n",
              "      border-bottom-color: var(--fill-color);\n",
              "    }\n",
              "  }\n",
              "</style>\n",
              "\n",
              "  <script>\n",
              "    async function quickchart(key) {\n",
              "      const quickchartButtonEl =\n",
              "        document.querySelector('#' + key + ' button');\n",
              "      quickchartButtonEl.disabled = true;  // To prevent multiple clicks.\n",
              "      quickchartButtonEl.classList.add('colab-df-spinner');\n",
              "      try {\n",
              "        const charts = await google.colab.kernel.invokeFunction(\n",
              "            'suggestCharts', [key], {});\n",
              "      } catch (error) {\n",
              "        console.error('Error during call to suggestCharts:', error);\n",
              "      }\n",
              "      quickchartButtonEl.classList.remove('colab-df-spinner');\n",
              "      quickchartButtonEl.classList.add('colab-df-quickchart-complete');\n",
              "    }\n",
              "    (() => {\n",
              "      let quickchartButtonEl =\n",
              "        document.querySelector('#df-82bf9083-19e3-4636-add4-f37e000bafc7 button');\n",
              "      quickchartButtonEl.style.display =\n",
              "        google.colab.kernel.accessAllowed ? 'block' : 'none';\n",
              "    })();\n",
              "  </script>\n",
              "</div>\n",
              "\n",
              "    </div>\n",
              "  </div>\n"
            ],
            "application/vnd.google.colaboratory.intrinsic+json": {
              "type": "dataframe",
              "variable_name": "df",
              "summary": "{\n  \"name\": \"df\",\n  \"rows\": 200,\n  \"fields\": [\n    {\n      \"column\": \"cgpa\",\n      \"properties\": {\n        \"dtype\": \"number\",\n        \"std\": 1.0694086798895523,\n        \"min\": 4.26,\n        \"max\": 9.58,\n        \"num_unique_values\": 163,\n        \"samples\": [\n          8.71,\n          6.37,\n          7.94\n        ],\n        \"semantic_type\": \"\",\n        \"description\": \"\"\n      }\n    },\n    {\n      \"column\": \"package\",\n      \"properties\": {\n        \"dtype\": \"number\",\n        \"std\": 0.6916442411250219,\n        \"min\": 1.37,\n        \"max\": 4.62,\n        \"num_unique_values\": 138,\n        \"samples\": [\n          3.76,\n          3.13,\n          2.89\n        ],\n        \"semantic_type\": \"\",\n        \"description\": \"\"\n      }\n    }\n  ]\n}"
            }
          },
          "metadata": {},
          "execution_count": 98
        }
      ]
    },
    {
      "cell_type": "code",
      "source": [
        "plt.scatter(df['cgpa'],df['package'])\n",
        "plt.xlabel('cgpa')\n",
        "plt.ylabel('package')"
      ],
      "metadata": {
        "colab": {
          "base_uri": "https://localhost:8080/",
          "height": 467
        },
        "id": "Gty7PXgNTPNZ",
        "outputId": "0f0647f4-239d-484d-d1b4-d68c77ac684c"
      },
      "execution_count": 99,
      "outputs": [
        {
          "output_type": "execute_result",
          "data": {
            "text/plain": [
              "Text(0, 0.5, 'package')"
            ]
          },
          "metadata": {},
          "execution_count": 99
        },
        {
          "output_type": "display_data",
          "data": {
            "text/plain": [
              "<Figure size 640x480 with 1 Axes>"
            ],
            "image/png": "[encoded data removed]"
          },
          "metadata": {}
        }
      ]
    },
    {
      "cell_type": "code",
      "source": [
        "df.shape"
      ],
      "metadata": {
        "colab": {
          "base_uri": "https://localhost:8080/"
        },
        "id": "EBCFA7k1VIBz",
        "outputId": "9da7bae3-de7b-4831-ad87-f9dcecf75435"
      },
      "execution_count": 100,
      "outputs": [
        {
          "output_type": "execute_result",
          "data": {
            "text/plain": [
              "(200, 2)"
            ]
          },
          "metadata": {},
          "execution_count": 100
        }
      ]
    },
    {
      "cell_type": "code",
      "source": [
        "df.info()"
      ],
      "metadata": {
        "colab": {
          "base_uri": "https://localhost:8080/"
        },
        "id": "slDtpVmyTVqU",
        "outputId": "40d782dc-89a9-4699-a572-25be98e9e659"
      },
      "execution_count": 101,
      "outputs": [
        {
          "output_type": "stream",
          "name": "stdout",
          "text": [
            "<class 'pandas.core.frame.DataFrame'>\n",
            "RangeIndex: 200 entries, 0 to 199\n",
            "Data columns (total 2 columns):\n",
            " #   Column   Non-Null Count  Dtype  \n",
            "---  ------   --------------  -----  \n",
            " 0   cgpa     200 non-null    float64\n",
            " 1   package  200 non-null    float64\n",
            "dtypes: float64(2)\n",
            "memory usage: 3.2 KB\n"
          ]
        }
      ]
    },
    {
      "cell_type": "code",
      "source": [
        "df.describe()"
      ],
      "metadata": {
        "colab": {
          "base_uri": "https://localhost:8080/",
          "height": 300
        },
        "id": "mzcbGVQQThiG",
        "outputId": "714acfcc-b81b-4ca8-d02d-ea6571b33e4b"
      },
      "execution_count": 102,
      "outputs": [
        {
          "output_type": "execute_result",
          "data": {
            "text/plain": [
              "             cgpa     package\n",
              "count  200.000000  200.000000\n",
              "mean     6.990500    2.996050\n",
              "std      1.069409    0.691644\n",
              "min      4.260000    1.370000\n",
              "25%      6.190000    2.487500\n",
              "50%      6.965000    2.995000\n",
              "75%      7.737500    3.492500\n",
              "max      9.580000    4.620000"
            ],
            "text/html": [
              "\n",
              "  <div id=\"df-5524480b-ff3b-4598-83d8-fabf8d2239b8\" class=\"colab-df-container\">\n",
              "    <div>\n",
              "<style scoped>\n",
              "    .dataframe tbody tr th:only-of-type {\n",
              "        vertical-align: middle;\n",
              "    }\n",
              "\n",
              "    .dataframe tbody tr th {\n",
              "        vertical-align: top;\n",
              "    }\n",
              "\n",
              "    .dataframe thead th {\n",
              "        text-align: right;\n",
              "    }\n",
              "</style>\n",
              "<table border=\"1\" class=\"dataframe\">\n",
              "  <thead>\n",
              "    <tr style=\"text-align: right;\">\n",
              "      <th></th>\n",
              "      <th>cgpa</th>\n",
              "      <th>package</th>\n",
              "    </tr>\n",
              "  </thead>\n",
              "  <tbody>\n",
              "    <tr>\n",
              "      <th>count</th>\n",
              "      <td>200.000000</td>\n",
              "      <td>200.000000</td>\n",
              "    </tr>\n",
              "    <tr>\n",
              "      <th>mean</th>\n",
              "      <td>6.990500</td>\n",
              "      <td>2.996050</td>\n",
              "    </tr>\n",
              "    <tr>\n",
              "      <th>std</th>\n",
              "      <td>1.069409</td>\n",
              "      <td>0.691644</td>\n",
              "    </tr>\n",
              "    <tr>\n",
              "      <th>min</th>\n",
              "      <td>4.260000</td>\n",
              "      <td>1.370000</td>\n",
              "    </tr>\n",
              "    <tr>\n",
              "      <th>25%</th>\n",
              "      <td>6.190000</td>\n",
              "      <td>2.487500</td>\n",
              "    </tr>\n",
              "    <tr>\n",
              "      <th>50%</th>\n",
              "      <td>6.965000</td>\n",
              "      <td>2.995000</td>\n",
              "    </tr>\n",
              "    <tr>\n",
              "      <th>75%</th>\n",
              "      <td>7.737500</td>\n",
              "      <td>3.492500</td>\n",
              "    </tr>\n",
              "    <tr>\n",
              "      <th>max</th>\n",
              "      <td>9.580000</td>\n",
              "      <td>4.620000</td>\n",
              "    </tr>\n",
              "  </tbody>\n",
              "</table>\n",
              "</div>\n",
              "    <div class=\"colab-df-buttons\">\n",
              "\n",
              "  <div class=\"colab-df-container\">\n",
              "    <button class=\"colab-df-convert\" onclick=\"convertToInteractive('df-5524480b-ff3b-4598-83d8-fabf8d2239b8')\"\n",
              "            title=\"Convert this dataframe to an interactive table.\"\n",
              "            style=\"display:none;\">\n",
              "\n",
              "  <svg xmlns=\"http://www.w3.org/2000/svg\" height=\"24px\" viewBox=\"0 -960 960 960\">\n",
              "    <path d=\"M120-120v-720h720v720H120Zm60-500h600v-160H180v160Zm220 220h160v-160H400v160Zm0 220h160v-160H400v160ZM180-400h160v-160H180v160Zm440 0h160v-160H620v160ZM180-180h160v-160H180v160Zm440 0h160v-160H620v160Z\"/>\n",
              "  </svg>\n",
              "    </button>\n",
              "\n",
              "  <style>\n",
              "    .colab-df-container {\n",
              "      display:flex;\n",
              "      gap: 12px;\n",
              "    }\n",
              "\n",
              "    .colab-df-convert {\n",
              "      background-color: #E8F0FE;\n",
              "      border: none;\n",
              "      border-radius: 50%;\n",
              "      cursor: pointer;\n",
              "      display: none;\n",
              "      fill: #1967D2;\n",
              "      height: 32px;\n",
              "      padding: 0 0 0 0;\n",
              "      width: 32px;\n",
              "    }\n",
              "\n",
              "    .colab-df-convert:hover {\n",
              "      background-color: #E2EBFA;\n",
              "      box-shadow: 0px 1px 2px rgba(60, 64, 67, 0.3), 0px 1px 3px 1px rgba(60, 64, 67, 0.15);\n",
              "      fill: #174EA6;\n",
              "    }\n",
              "\n",
              "    .colab-df-buttons div {\n",
              "      margin-bottom: 4px;\n",
              "    }\n",
              "\n",
              "    [theme=dark] .colab-df-convert {\n",
              "      background-color: #3B4455;\n",
              "      fill: #D2E3FC;\n",
              "    }\n",
              "\n",
              "    [theme=dark] .colab-df-convert:hover {\n",
              "      background-color: #434B5C;\n",
              "      box-shadow: 0px 1px 3px 1px rgba(0, 0, 0, 0.15);\n",
              "      filter: drop-shadow(0px 1px 2px rgba(0, 0, 0, 0.3));\n",
              "      fill: #FFFFFF;\n",
              "    }\n",
              "  </style>\n",
              "\n",
              "    <script>\n",
              "      const buttonEl =\n",
              "        document.querySelector('#df-5524480b-ff3b-4598-83d8-fabf8d2239b8 button.colab-df-convert');\n",
              "      buttonEl.style.display =\n",
              "        google.colab.kernel.accessAllowed ? 'block' : 'none';\n",
              "\n",
              "      async function convertToInteractive(key) {\n",
              "        const element = document.querySelector('#df-5524480b-ff3b-4598-83d8-fabf8d2239b8');\n",
              "        const dataTable =\n",
              "          await google.colab.kernel.invokeFunction('convertToInteractive',\n",
              "                                                    [key], {});\n",
              "        if (!dataTable) return;\n",
              "\n",
              "        const docLinkHtml = 'Like what you see? Visit the ' +\n",
              "          '<a target=\"_blank\" href=https://colab.research.google.com/notebooks/data_table.ipynb>data table notebook</a>'\n",
              "          + ' to learn more about interactive tables.';\n",
              "        element.innerHTML = '';\n",
              "        dataTable['output_type'] = 'display_data';\n",
              "        await google.colab.output.renderOutput(dataTable, element);\n",
              "        const docLink = document.createElement('div');\n",
              "        docLink.innerHTML = docLinkHtml;\n",
              "        element.appendChild(docLink);\n",
              "      }\n",
              "    </script>\n",
              "  </div>\n",
              "\n",
              "\n",
              "<div id=\"df-b2aa19ac-da80-4a08-8083-388a784e44e1\">\n",
              "  <button class=\"colab-df-quickchart\" onclick=\"quickchart('df-b2aa19ac-da80-4a08-8083-388a784e44e1')\"\n",
              "            title=\"Suggest charts\"\n",
              "            style=\"display:none;\">\n",
              "\n",
              "<svg xmlns=\"http://www.w3.org/2000/svg\" height=\"24px\"viewBox=\"0 0 24 24\"\n",
              "     width=\"24px\">\n",
              "    <g>\n",
              "        <path d=\"M19 3H5c-1.1 0-2 .9-2 2v14c0 1.1.9 2 2 2h14c1.1 0 2-.9 2-2V5c0-1.1-.9-2-2-2zM9 17H7v-7h2v7zm4 0h-2V7h2v10zm4 0h-2v-4h2v4z\"/>\n",
              "    </g>\n",
              "</svg>\n",
              "  </button>\n",
              "\n",
              "<style>\n",
              "  .colab-df-quickchart {\n",
              "      --bg-color: #E8F0FE;\n",
              "      --fill-color: #1967D2;\n",
              "      --hover-bg-color: #E2EBFA;\n",
              "      --hover-fill-color: #174EA6;\n",
              "      --disabled-fill-color: #AAA;\n",
              "      --disabled-bg-color: #DDD;\n",
              "  }\n",
              "\n",
              "  [theme=dark] .colab-df-quickchart {\n",
              "      --bg-color: #3B4455;\n",
              "      --fill-color: #D2E3FC;\n",
              "      --hover-bg-color: #434B5C;\n",
              "      --hover-fill-color: #FFFFFF;\n",
              "      --disabled-bg-color: #3B4455;\n",
              "      --disabled-fill-color: #666;\n",
              "  }\n",
              "\n",
              "  .colab-df-quickchart {\n",
              "    background-color: var(--bg-color);\n",
              "    border: none;\n",
              "    border-radius: 50%;\n",
              "    cursor: pointer;\n",
              "    display: none;\n",
              "    fill: var(--fill-color);\n",
              "    height: 32px;\n",
              "    padding: 0;\n",
              "    width: 32px;\n",
              "  }\n",
              "\n",
              "  .colab-df-quickchart:hover {\n",
              "    background-color: var(--hover-bg-color);\n",
              "    box-shadow: 0 1px 2px rgba(60, 64, 67, 0.3), 0 1px 3px 1px rgba(60, 64, 67, 0.15);\n",
              "    fill: var(--button-hover-fill-color);\n",
              "  }\n",
              "\n",
              "  .colab-df-quickchart-complete:disabled,\n",
              "  .colab-df-quickchart-complete:disabled:hover {\n",
              "    background-color: var(--disabled-bg-color);\n",
              "    fill: var(--disabled-fill-color);\n",
              "    box-shadow: none;\n",
              "  }\n",
              "\n",
              "  .colab-df-spinner {\n",
              "    border: 2px solid var(--fill-color);\n",
              "    border-color: transparent;\n",
              "    border-bottom-color: var(--fill-color);\n",
              "    animation:\n",
              "      spin 1s steps(1) infinite;\n",
              "  }\n",
              "\n",
              "  @keyframes spin {\n",
              "    0% {\n",
              "      border-color: transparent;\n",
              "      border-bottom-color: var(--fill-color);\n",
              "      border-left-color: var(--fill-color);\n",
              "    }\n",
              "    20% {\n",
              "      border-color: transparent;\n",
              "      border-left-color: var(--fill-color);\n",
              "      border-top-color: var(--fill-color);\n",
              "    }\n",
              "    30% {\n",
              "      border-color: transparent;\n",
              "      border-left-color: var(--fill-color);\n",
              "      border-top-color: var(--fill-color);\n",
              "      border-right-color: var(--fill-color);\n",
              "    }\n",
              "    40% {\n",
              "      border-color: transparent;\n",
              "      border-right-color: var(--fill-color);\n",
              "      border-top-color: var(--fill-color);\n",
              "    }\n",
              "    60% {\n",
              "      border-color: transparent;\n",
              "      border-right-color: var(--fill-color);\n",
              "    }\n",
              "    80% {\n",
              "      border-color: transparent;\n",
              "      border-right-color: var(--fill-color);\n",
              "      border-bottom-color: var(--fill-color);\n",
              "    }\n",
              "    90% {\n",
              "      border-color: transparent;\n",
              "      border-bottom-color: var(--fill-color);\n",
              "    }\n",
              "  }\n",
              "</style>\n",
              "\n",
              "  <script>\n",
              "    async function quickchart(key) {\n",
              "      const quickchartButtonEl =\n",
              "        document.querySelector('#' + key + ' button');\n",
              "      quickchartButtonEl.disabled = true;  // To prevent multiple clicks.\n",
              "      quickchartButtonEl.classList.add('colab-df-spinner');\n",
              "      try {\n",
              "        const charts = await google.colab.kernel.invokeFunction(\n",
              "            'suggestCharts', [key], {});\n",
              "      } catch (error) {\n",
              "        console.error('Error during call to suggestCharts:', error);\n",
              "      }\n",
              "      quickchartButtonEl.classList.remove('colab-df-spinner');\n",
              "      quickchartButtonEl.classList.add('colab-df-quickchart-complete');\n",
              "    }\n",
              "    (() => {\n",
              "      let quickchartButtonEl =\n",
              "        document.querySelector('#df-b2aa19ac-da80-4a08-8083-388a784e44e1 button');\n",
              "      quickchartButtonEl.style.display =\n",
              "        google.colab.kernel.accessAllowed ? 'block' : 'none';\n",
              "    })();\n",
              "  </script>\n",
              "</div>\n",
              "\n",
              "    </div>\n",
              "  </div>\n"
            ],
            "application/vnd.google.colaboratory.intrinsic+json": {
              "type": "dataframe",
              "summary": "{\n  \"name\": \"df\",\n  \"rows\": 8,\n  \"fields\": [\n    {\n      \"column\": \"cgpa\",\n      \"properties\": {\n        \"dtype\": \"number\",\n        \"std\": 68.59624286082793,\n        \"min\": 1.0694086798895523,\n        \"max\": 200.0,\n        \"num_unique_values\": 8,\n        \"samples\": [\n          6.990500000000001,\n          6.965,\n          200.0\n        ],\n        \"semantic_type\": \"\",\n        \"description\": \"\"\n      }\n    },\n    {\n      \"column\": \"package\",\n      \"properties\": {\n        \"dtype\": \"number\",\n        \"std\": 69.77914766041287,\n        \"min\": 0.6916442411250219,\n        \"max\": 200.0,\n        \"num_unique_values\": 8,\n        \"samples\": [\n          2.9960500000000003,\n          2.995,\n          200.0\n        ],\n        \"semantic_type\": \"\",\n        \"description\": \"\"\n      }\n    }\n  ]\n}"
            }
          },
          "metadata": {},
          "execution_count": 102
        }
      ]
    },
    {
      "cell_type": "code",
      "source": [
        "df.isnull().sum()"
      ],
      "metadata": {
        "colab": {
          "base_uri": "https://localhost:8080/",
          "height": 147
        },
        "id": "W1svhC46TsRu",
        "outputId": "74b3b8d2-2d15-4dc4-82d0-7e04fa818f2c"
      },
      "execution_count": 103,
      "outputs": [
        {
          "output_type": "execute_result",
          "data": {
            "text/plain": [
              "cgpa       0\n",
              "package    0\n",
              "dtype: int64"
            ],
            "text/html": [
              "<div>\n",
              "<style scoped>\n",
              "    .dataframe tbody tr th:only-of-type {\n",
              "        vertical-align: middle;\n",
              "    }\n",
              "\n",
              "    .dataframe tbody tr th {\n",
              "        vertical-align: top;\n",
              "    }\n",
              "\n",
              "    .dataframe thead th {\n",
              "        text-align: right;\n",
              "    }\n",
              "</style>\n",
              "<table border=\"1\" class=\"dataframe\">\n",
              "  <thead>\n",
              "    <tr style=\"text-align: right;\">\n",
              "      <th></th>\n",
              "      <th>0</th>\n",
              "    </tr>\n",
              "  </thead>\n",
              "  <tbody>\n",
              "    <tr>\n",
              "      <th>cgpa</th>\n",
              "      <td>0</td>\n",
              "    </tr>\n",
              "    <tr>\n",
              "      <th>package</th>\n",
              "      <td>0</td>\n",
              "    </tr>\n",
              "  </tbody>\n",
              "</table>\n",
              "</div><br><label><b>dtype:</b> int64</label>"
            ]
          },
          "metadata": {},
          "execution_count": 103
        }
      ]
    },
    {
      "cell_type": "code",
      "source": [
        "df.isna().sum()"
      ],
      "metadata": {
        "colab": {
          "base_uri": "https://localhost:8080/",
          "height": 147
        },
        "id": "b56s34AyTwpU",
        "outputId": "3434562f-543e-4188-966b-ee28b512d93b"
      },
      "execution_count": 104,
      "outputs": [
        {
          "output_type": "execute_result",
          "data": {
            "text/plain": [
              "cgpa       0\n",
              "package    0\n",
              "dtype: int64"
            ],
            "text/html": [
              "<div>\n",
              "<style scoped>\n",
              "    .dataframe tbody tr th:only-of-type {\n",
              "        vertical-align: middle;\n",
              "    }\n",
              "\n",
              "    .dataframe tbody tr th {\n",
              "        vertical-align: top;\n",
              "    }\n",
              "\n",
              "    .dataframe thead th {\n",
              "        text-align: right;\n",
              "    }\n",
              "</style>\n",
              "<table border=\"1\" class=\"dataframe\">\n",
              "  <thead>\n",
              "    <tr style=\"text-align: right;\">\n",
              "      <th></th>\n",
              "      <th>0</th>\n",
              "    </tr>\n",
              "  </thead>\n",
              "  <tbody>\n",
              "    <tr>\n",
              "      <th>cgpa</th>\n",
              "      <td>0</td>\n",
              "    </tr>\n",
              "    <tr>\n",
              "      <th>package</th>\n",
              "      <td>0</td>\n",
              "    </tr>\n",
              "  </tbody>\n",
              "</table>\n",
              "</div><br><label><b>dtype:</b> int64</label>"
            ]
          },
          "metadata": {},
          "execution_count": 104
        }
      ]
    },
    {
      "cell_type": "code",
      "source": [
        "df.duplicated().sum()"
      ],
      "metadata": {
        "colab": {
          "base_uri": "https://localhost:8080/"
        },
        "id": "jafOQiyTT0Uw",
        "outputId": "45f98f7c-c6d5-4102-a9b3-a328a92fc8fe"
      },
      "execution_count": 105,
      "outputs": [
        {
          "output_type": "execute_result",
          "data": {
            "text/plain": [
              "0"
            ]
          },
          "metadata": {},
          "execution_count": 105
        }
      ]
    },
    {
      "cell_type": "code",
      "source": [
        "sns.heatmap(df.corr(),annot=True)"
      ],
      "metadata": {
        "colab": {
          "base_uri": "https://localhost:8080/",
          "height": 453
        },
        "id": "XNpbMgcrT5hp",
        "outputId": "2ae6dfc5-6833-4cf9-9943-a74d580e336c"
      },
      "execution_count": 106,
      "outputs": [
        {
          "output_type": "execute_result",
          "data": {
            "text/plain": [
              "<Axes: >"
            ]
          },
          "metadata": {},
          "execution_count": 106
        },
        {
          "output_type": "display_data",
          "data": {
            "text/plain": [
              "<Figure size 640x480 with 2 Axes>"
            ],
            "image/png": "[encoded data removed]"
          },
          "metadata": {}
        }
      ]
    },
    {
      "cell_type": "markdown",
      "source": [
        "**Divide our dataset into dependent and independent feature**"
      ],
      "metadata": {
        "id": "siQWkgraUX1A"
      }
    },
    {
      "cell_type": "code",
      "source": [
        "X=df[['cgpa']]\n",
        "y=df['package']"
      ],
      "metadata": {
        "id": "fnZVdtAfUHhi"
      },
      "execution_count": 107,
      "outputs": []
    },
    {
      "cell_type": "code",
      "source": [
        "X.shape,y.shape"
      ],
      "metadata": {
        "colab": {
          "base_uri": "https://localhost:8080/"
        },
        "id": "zE9E6ncJU76E",
        "outputId": "317e834f-9e3c-4cdd-83af-66d1c0d5846b"
      },
      "execution_count": 108,
      "outputs": [
        {
          "output_type": "execute_result",
          "data": {
            "text/plain": [
              "((200, 1), (200,))"
            ]
          },
          "metadata": {},
          "execution_count": 108
        }
      ]
    },
    {
      "cell_type": "code",
      "source": [
        "from sklearn.model_selection import train_test_split"
      ],
      "metadata": {
        "id": "2WGH3C5dVLSY"
      },
      "execution_count": 109,
      "outputs": []
    },
    {
      "cell_type": "code",
      "source": [
        "X_train,X_test,y_train,y_test=train_test_split(X,y,test_size=0.2,random_state=42)"
      ],
      "metadata": {
        "id": "it0j_wq1V6Ct"
      },
      "execution_count": 110,
      "outputs": []
    },
    {
      "cell_type": "code",
      "source": [
        "X_train.shape,X_test.shape"
      ],
      "metadata": {
        "colab": {
          "base_uri": "https://localhost:8080/"
        },
        "id": "tdz-9zEDWbXS",
        "outputId": "4df21b1f-aaea-46f4-a536-3d78128e7a11"
      },
      "execution_count": 111,
      "outputs": [
        {
          "output_type": "execute_result",
          "data": {
            "text/plain": [
              "((160, 1), (40, 1))"
            ]
          },
          "metadata": {},
          "execution_count": 111
        }
      ]
    },
    {
      "cell_type": "code",
      "source": [
        "y_train.shape,y_test.shape"
      ],
      "metadata": {
        "colab": {
          "base_uri": "https://localhost:8080/"
        },
        "id": "tdzKtmCbWuqI",
        "outputId": "13e0073e-eb60-4567-86a7-cd681523521e"
      },
      "execution_count": 112,
      "outputs": [
        {
          "output_type": "execute_result",
          "data": {
            "text/plain": [
              "((160,), (40,))"
            ]
          },
          "metadata": {},
          "execution_count": 112
        }
      ]
    },
    {
      "cell_type": "code",
      "source": [
        "from sklearn.preprocessing import StandardScaler\n",
        "scaller=StandardScaler()\n",
        "X_train=scaller.fit_transform(X_train)\n",
        "X_test=scaller.transform(X_test)"
      ],
      "metadata": {
        "id": "dl9cRrceaygU"
      },
      "execution_count": 113,
      "outputs": []
    },
    {
      "cell_type": "code",
      "source": [
        "X_train"
      ],
      "metadata": {
        "colab": {
          "base_uri": "https://localhost:8080/"
        },
        "id": "VjkDfxiFb3EQ",
        "outputId": "158e2038-4015-4ccf-abaa-a190c509b641"
      },
      "execution_count": 114,
      "outputs": [
        {
          "output_type": "execute_result",
          "data": {
            "text/plain": [
              "array([[ 0.1606486 ],\n",
              "       [ 0.1882475 ],\n",
              "       [ 1.48539583],\n",
              "       [-0.43732758],\n",
              "       [-1.73447591],\n",
              "       [-0.06934224],\n",
              "       [ 0.1330497 ],\n",
              "       [ 0.43663761],\n",
              "       [-1.98286601],\n",
              "       [ 0.55623284],\n",
              "       [-1.07210229],\n",
              "       [-0.23493564],\n",
              "       [ 0.81382258],\n",
              "       [-1.00770486],\n",
              "       [ 0.1054508 ],\n",
              "       [ 1.31980243],\n",
              "       [ 0.83222185],\n",
              "       [ 0.62982991],\n",
              "       [-0.06934224],\n",
              "       [ 0.09625117],\n",
              "       [ 2.12017054],\n",
              "       [-0.94330742],\n",
              "       [ 1.00701489],\n",
              "       [ 1.7797841 ],\n",
              "       [-0.12454004],\n",
              "       [ 0.3538409 ],\n",
              "       [-0.97090632],\n",
              "       [ 1.01621452],\n",
              "       [ 0.09625117],\n",
              "       [-1.25609496],\n",
              "       [ 2.07417238],\n",
              "       [-0.20733674],\n",
              "       [-1.35729093],\n",
              "       [-0.10614077],\n",
              "       [ 0.36304054],\n",
              "       [-0.0601426 ],\n",
              "       [ 1.20020719],\n",
              "       [ 0.16984823],\n",
              "       [ 0.86902038],\n",
              "       [-1.4584869 ],\n",
              "       [ 0.74942515],\n",
              "       [ 1.82578227],\n",
              "       [-0.86051072],\n",
              "       [-0.68571768],\n",
              "       [ 0.25264494],\n",
              "       [-2.03806381],\n",
              "       [ 0.2710442 ],\n",
              "       [-0.93410779],\n",
              "       [-0.75011512],\n",
              "       [-1.4032891 ],\n",
              "       [-0.79611329],\n",
              "       [-0.22573601],\n",
              "       [-0.27173418],\n",
              "       [-0.60292098],\n",
              "       [-0.36373051],\n",
              "       [ 0.81382258],\n",
              "       [ 1.56819253],\n",
              "       [-0.25333491],\n",
              "       [-1.4584869 ],\n",
              "       [-1.63327994],\n",
              "       [-0.0601426 ],\n",
              "       [-0.04174334],\n",
              "       [-0.06934224],\n",
              "       [-1.07210229],\n",
              "       [ 0.70342698],\n",
              "       [-0.76851439],\n",
              "       [-1.55048324],\n",
              "       [-0.61212062],\n",
              "       [ 1.4485973 ],\n",
              "       [-0.86051072],\n",
              "       [ 1.46699656],\n",
              "       [-0.10614077],\n",
              "       [ 0.57463211],\n",
              "       [ 0.85982075],\n",
              "       [-1.11810046],\n",
              "       [-1.75287517],\n",
              "       [ 0.326242  ],\n",
              "       [-1.76207481],\n",
              "       [ 1.77058447],\n",
              "       [-0.98010596],\n",
              "       [ 2.18456798],\n",
              "       [ 0.69422735],\n",
              "       [-0.02334407],\n",
              "       [ 0.34464127],\n",
              "       [ 0.25264494],\n",
              "       [-0.75011512],\n",
              "       [ 0.80462295],\n",
              "       [-1.2376957 ],\n",
              "       [-0.83291182],\n",
              "       [ 0.39063944],\n",
              "       [ 1.51299473],\n",
              "       [-1.07210229],\n",
              "       [-1.08130193],\n",
              "       [ 0.06865227],\n",
              "       [ 0.60223101],\n",
              "       [ 0.83222185],\n",
              "       [ 0.38143981],\n",
              "       [-0.31773234],\n",
              "       [-0.49252538],\n",
              "       [-0.87890999],\n",
              "       [-0.75011512],\n",
              "       [ 1.05301305],\n",
              "       [-0.63971952],\n",
              "       [ 1.71538667],\n",
              "       [ 0.57463211],\n",
              "       [ 0.30784274],\n",
              "       [-0.23493564],\n",
              "       [ 1.08061195],\n",
              "       [-0.72251622],\n",
              "       [ 1.31980243],\n",
              "       [-0.65811878],\n",
              "       [ 1.11741049],\n",
              "       [-0.53852355],\n",
              "       [-0.84211145],\n",
              "       [-0.06934224],\n",
              "       [ 0.51023467],\n",
              "       [ 0.92421818],\n",
              "       [-0.58452172],\n",
              "       [-1.49528544],\n",
              "       [ 0.71262661],\n",
              "       [ 0.03185373],\n",
              "       [ 0.17904787],\n",
              "       [ 1.03461379],\n",
              "       [ 0.25264494],\n",
              "       [ 1.98217604],\n",
              "       [-0.13373967],\n",
              "       [-0.62132025],\n",
              "       [ 2.36856065],\n",
              "       [-1.02610413],\n",
              "       [-0.07854187],\n",
              "       [ 1.49459546],\n",
              "       [-2.09326162],\n",
              "       [-0.14293931],\n",
              "       [-0.37293014],\n",
              "       [ 0.11465043],\n",
              "       [ 1.14500939],\n",
              "       [ 0.26184457],\n",
              "       [-1.01690449],\n",
              "       [-0.49252538],\n",
              "       [-2.24045575],\n",
              "       [-1.73447591],\n",
              "       [ 1.25540499],\n",
              "       [ 1.17260829],\n",
              "       [-0.29933308],\n",
              "       [-0.81451255],\n",
              "       [ 0.04105336],\n",
              "       [-0.36373051],\n",
              "       [ 1.87178044],\n",
              "       [ 0.99781525],\n",
              "       [-0.14293931],\n",
              "       [-0.46492648],\n",
              "       [-0.72251622],\n",
              "       [ 0.25264494],\n",
              "       [ 0.31704237],\n",
              "       [ 0.42743797],\n",
              "       [-0.80531292],\n",
              "       [ 0.66662845],\n",
              "       [ 0.82302222],\n",
              "       [ 0.12385007],\n",
              "       [-1.72527627]])"
            ]
          },
          "metadata": {},
          "execution_count": 114
        }
      ]
    },
    {
      "cell_type": "code",
      "source": [
        "X_test"
      ],
      "metadata": {
        "colab": {
          "base_uri": "https://localhost:8080/"
        },
        "id": "9UuCcuMkb74w",
        "outputId": "68eefae7-bc28-4260-a764-fba7d4c01e9d"
      },
      "execution_count": 115,
      "outputs": [
        {
          "output_type": "execute_result",
          "data": {
            "text/plain": [
              "array([[-0.34533124],\n",
              "       [ 0.22504604],\n",
              "       [ 0.326242  ],\n",
              "       [-0.97090632],\n",
              "       [ 0.85062112],\n",
              "       [ 1.23700572],\n",
              "       [ 0.2710442 ],\n",
              "       [-0.72251622],\n",
              "       [ 0.28944347],\n",
              "       [ 0.79542331],\n",
              "       [-1.74367554],\n",
              "       [-1.03530376],\n",
              "       [ 1.10821085],\n",
              "       [-0.38212978],\n",
              "       [ 0.76782441],\n",
              "       [ 0.0778519 ],\n",
              "       [-1.07210229],\n",
              "       [ 0.33544164],\n",
              "       [-1.31129277],\n",
              "       [ 0.51023467],\n",
              "       [-0.86971036],\n",
              "       [-0.15213894],\n",
              "       [ 0.51943431],\n",
              "       [-0.19813711],\n",
              "       [ 0.54703321],\n",
              "       [-1.28369386],\n",
              "       [-2.52564439],\n",
              "       [-0.45572685],\n",
              "       [ 0.2986431 ],\n",
              "       [-1.07210229],\n",
              "       [ 1.20020719],\n",
              "       [-0.0601426 ],\n",
              "       [ 1.09901122],\n",
              "       [-0.0325437 ],\n",
              "       [-0.64891915],\n",
              "       [ 0.56543248],\n",
              "       [-0.83291182],\n",
              "       [ 0.12385007],\n",
              "       [ 1.89017971],\n",
              "       [-0.0601426 ]])"
            ]
          },
          "metadata": {},
          "execution_count": 115
        }
      ]
    },
    {
      "cell_type": "code",
      "source": [
        "plt.scatter(X_train,y_train)\n",
        "plt.xlabel('cgpa')\n",
        "plt.ylabel('package')"
      ],
      "metadata": {
        "colab": {
          "base_uri": "https://localhost:8080/",
          "height": 467
        },
        "id": "OC0uesOlcFnt",
        "outputId": "5c2ec488-ece2-471e-f5f4-cea1a02a4b0d"
      },
      "execution_count": 116,
      "outputs": [
        {
          "output_type": "execute_result",
          "data": {
            "text/plain": [
              "Text(0, 0.5, 'package')"
            ]
          },
          "metadata": {},
          "execution_count": 116
        },
        {
          "output_type": "display_data",
          "data": {
            "text/plain": [
              "<Figure size 640x480 with 1 Axes>"
            ],
            "image/png": "[encoded data removed]"
          },
          "metadata": {}
        }
      ]
    },
    {
      "cell_type": "code",
      "source": [
        "from sklearn.linear_model import LinearRegression\n",
        "regressor=LinearRegression()\n",
        "regressor.fit(X_train,y_train)"
      ],
      "metadata": {
        "colab": {
          "base_uri": "https://localhost:8080/",
          "height": 80
        },
        "id": "Y05uZIzAW72S",
        "outputId": "d5118448-4a2f-4467-8629-6b0472775705"
      },
      "execution_count": 117,
      "outputs": [
        {
          "output_type": "execute_result",
          "data": {
            "text/plain": [
              "LinearRegression()"
            ],
            "text/html": [
              "<style>#sk-container-id-3 {\n",
              "  /* Definition of color scheme common for light and dark mode */\n",
              "  --sklearn-color-text: black;\n",
              "  --sklearn-color-line: gray;\n",
              "  /* Definition of color scheme for unfitted estimators */\n",
              "  --sklearn-color-unfitted-level-0: #fff5e6;\n",
              "  --sklearn-color-unfitted-level-1: #f6e4d2;\n",
              "  --sklearn-color-unfitted-level-2: #ffe0b3;\n",
              "  --sklearn-color-unfitted-level-3: chocolate;\n",
              "  /* Definition of color scheme for fitted estimators */\n",
              "  --sklearn-color-fitted-level-0: #f0f8ff;\n",
              "  --sklearn-color-fitted-level-1: #d4ebff;\n",
              "  --sklearn-color-fitted-level-2: #b3dbfd;\n",
              "  --sklearn-color-fitted-level-3: cornflowerblue;\n",
              "\n",
              "  /* Specific color for light theme */\n",
              "  --sklearn-color-text-on-default-background: var(--sg-text-color, var(--theme-code-foreground, var(--jp-content-font-color1, black)));\n",
              "  --sklearn-color-background: var(--sg-background-color, var(--theme-background, var(--jp-layout-color0, white)));\n",
              "  --sklearn-color-border-box: var(--sg-text-color, var(--theme-code-foreground, var(--jp-content-font-color1, black)));\n",
              "  --sklearn-color-icon: #696969;\n",
              "\n",
              "  @media (prefers-color-scheme: dark) {\n",
              "    /* Redefinition of color scheme for dark theme */\n",
              "    --sklearn-color-text-on-default-background: var(--sg-text-color, var(--theme-code-foreground, var(--jp-content-font-color1, white)));\n",
              "    --sklearn-color-background: var(--sg-background-color, var(--theme-background, var(--jp-layout-color0, #111)));\n",
              "    --sklearn-color-border-box: var(--sg-text-color, var(--theme-code-foreground, var(--jp-content-font-color1, white)));\n",
              "    --sklearn-color-icon: #878787;\n",
              "  }\n",
              "}\n",
              "\n",
              "#sk-container-id-3 {\n",
              "  color: var(--sklearn-color-text);\n",
              "}\n",
              "\n",
              "#sk-container-id-3 pre {\n",
              "  padding: 0;\n",
              "}\n",
              "\n",
              "#sk-container-id-3 input.sk-hidden--visually {\n",
              "  border: 0;\n",
              "  clip: rect(1px 1px 1px 1px);\n",
              "  clip: rect(1px, 1px, 1px, 1px);\n",
              "  height: 1px;\n",
              "  margin: -1px;\n",
              "  overflow: hidden;\n",
              "  padding: 0;\n",
              "  position: absolute;\n",
              "  width: 1px;\n",
              "}\n",
              "\n",
              "#sk-container-id-3 div.sk-dashed-wrapped {\n",
              "  border: 1px dashed var(--sklearn-color-line);\n",
              "  margin: 0 0.4em 0.5em 0.4em;\n",
              "  box-sizing: border-box;\n",
              "  padding-bottom: 0.4em;\n",
              "  background-color: var(--sklearn-color-background);\n",
              "}\n",
              "\n",
              "#sk-container-id-3 div.sk-container {\n",
              "  /* jupyter's `normalize.less` sets `[hidden] { display: none; }`\n",
              "     but bootstrap.min.css set `[hidden] { display: none !important; }`\n",
              "     so we also need the `!important` here to be able to override the\n",
              "     default hidden behavior on the sphinx rendered scikit-learn.org.\n",
              "     See: https://github.com/scikit-learn/scikit-learn/issues/21755 */\n",
              "  display: inline-block !important;\n",
              "  position: relative;\n",
              "}\n",
              "\n",
              "#sk-container-id-3 div.sk-text-repr-fallback {\n",
              "  display: none;\n",
              "}\n",
              "\n",
              "div.sk-parallel-item,\n",
              "div.sk-serial,\n",
              "div.sk-item {\n",
              "  /* draw centered vertical line to link estimators */\n",
              "  background-image: linear-gradient(var(--sklearn-color-text-on-default-background), var(--sklearn-color-text-on-default-background));\n",
              "  background-size: 2px 100%;\n",
              "  background-repeat: no-repeat;\n",
              "  background-position: center center;\n",
              "}\n",
              "\n",
              "/* Parallel-specific style estimator block */\n",
              "\n",
              "#sk-container-id-3 div.sk-parallel-item::after {\n",
              "  content: \"\";\n",
              "  width: 100%;\n",
              "  border-bottom: 2px solid var(--sklearn-color-text-on-default-background);\n",
              "  flex-grow: 1;\n",
              "}\n",
              "\n",
              "#sk-container-id-3 div.sk-parallel {\n",
              "  display: flex;\n",
              "  align-items: stretch;\n",
              "  justify-content: center;\n",
              "  background-color: var(--sklearn-color-background);\n",
              "  position: relative;\n",
              "}\n",
              "\n",
              "#sk-container-id-3 div.sk-parallel-item {\n",
              "  display: flex;\n",
              "  flex-direction: column;\n",
              "}\n",
              "\n",
              "#sk-container-id-3 div.sk-parallel-item:first-child::after {\n",
              "  align-self: flex-end;\n",
              "  width: 50%;\n",
              "}\n",
              "\n",
              "#sk-container-id-3 div.sk-parallel-item:last-child::after {\n",
              "  align-self: flex-start;\n",
              "  width: 50%;\n",
              "}\n",
              "\n",
              "#sk-container-id-3 div.sk-parallel-item:only-child::after {\n",
              "  width: 0;\n",
              "}\n",
              "\n",
              "/* Serial-specific style estimator block */\n",
              "\n",
              "#sk-container-id-3 div.sk-serial {\n",
              "  display: flex;\n",
              "  flex-direction: column;\n",
              "  align-items: center;\n",
              "  background-color: var(--sklearn-color-background);\n",
              "  padding-right: 1em;\n",
              "  padding-left: 1em;\n",
              "}\n",
              "\n",
              "\n",
              "/* Toggleable style: style used for estimator/Pipeline/ColumnTransformer box that is\n",
              "clickable and can be expanded/collapsed.\n",
              "- Pipeline and ColumnTransformer use this feature and define the default style\n",
              "- Estimators will overwrite some part of the style using the `sk-estimator` class\n",
              "*/\n",
              "\n",
              "/* Pipeline and ColumnTransformer style (default) */\n",
              "\n",
              "#sk-container-id-3 div.sk-toggleable {\n",
              "  /* Default theme specific background. It is overwritten whether we have a\n",
              "  specific estimator or a Pipeline/ColumnTransformer */\n",
              "  background-color: var(--sklearn-color-background);\n",
              "}\n",
              "\n",
              "/* Toggleable label */\n",
              "#sk-container-id-3 label.sk-toggleable__label {\n",
              "  cursor: pointer;\n",
              "  display: block;\n",
              "  width: 100%;\n",
              "  margin-bottom: 0;\n",
              "  padding: 0.5em;\n",
              "  box-sizing: border-box;\n",
              "  text-align: center;\n",
              "}\n",
              "\n",
              "#sk-container-id-3 label.sk-toggleable__label-arrow:before {\n",
              "  /* Arrow on the left of the label */\n",
              "  content: \"▸\";\n",
              "  float: left;\n",
              "  margin-right: 0.25em;\n",
              "  color: var(--sklearn-color-icon);\n",
              "}\n",
              "\n",
              "#sk-container-id-3 label.sk-toggleable__label-arrow:hover:before {\n",
              "  color: var(--sklearn-color-text);\n",
              "}\n",
              "\n",
              "/* Toggleable content - dropdown */\n",
              "\n",
              "#sk-container-id-3 div.sk-toggleable__content {\n",
              "  max-height: 0;\n",
              "  max-width: 0;\n",
              "  overflow: hidden;\n",
              "  text-align: left;\n",
              "  /* unfitted */\n",
              "  background-color: var(--sklearn-color-unfitted-level-0);\n",
              "}\n",
              "\n",
              "#sk-container-id-3 div.sk-toggleable__content.fitted {\n",
              "  /* fitted */\n",
              "  background-color: var(--sklearn-color-fitted-level-0);\n",
              "}\n",
              "\n",
              "#sk-container-id-3 div.sk-toggleable__content pre {\n",
              "  margin: 0.2em;\n",
              "  border-radius: 0.25em;\n",
              "  color: var(--sklearn-color-text);\n",
              "  /* unfitted */\n",
              "  background-color: var(--sklearn-color-unfitted-level-0);\n",
              "}\n",
              "\n",
              "#sk-container-id-3 div.sk-toggleable__content.fitted pre {\n",
              "  /* unfitted */\n",
              "  background-color: var(--sklearn-color-fitted-level-0);\n",
              "}\n",
              "\n",
              "#sk-container-id-3 input.sk-toggleable__control:checked~div.sk-toggleable__content {\n",
              "  /* Expand drop-down */\n",
              "  max-height: 200px;\n",
              "  max-width: 100%;\n",
              "  overflow: auto;\n",
              "}\n",
              "\n",
              "#sk-container-id-3 input.sk-toggleable__control:checked~label.sk-toggleable__label-arrow:before {\n",
              "  content: \"▾\";\n",
              "}\n",
              "\n",
              "/* Pipeline/ColumnTransformer-specific style */\n",
              "\n",
              "#sk-container-id-3 div.sk-label input.sk-toggleable__control:checked~label.sk-toggleable__label {\n",
              "  color: var(--sklearn-color-text);\n",
              "  background-color: var(--sklearn-color-unfitted-level-2);\n",
              "}\n",
              "\n",
              "#sk-container-id-3 div.sk-label.fitted input.sk-toggleable__control:checked~label.sk-toggleable__label {\n",
              "  background-color: var(--sklearn-color-fitted-level-2);\n",
              "}\n",
              "\n",
              "/* Estimator-specific style */\n",
              "\n",
              "/* Colorize estimator box */\n",
              "#sk-container-id-3 div.sk-estimator input.sk-toggleable__control:checked~label.sk-toggleable__label {\n",
              "  /* unfitted */\n",
              "  background-color: var(--sklearn-color-unfitted-level-2);\n",
              "}\n",
              "\n",
              "#sk-container-id-3 div.sk-estimator.fitted input.sk-toggleable__control:checked~label.sk-toggleable__label {\n",
              "  /* fitted */\n",
              "  background-color: var(--sklearn-color-fitted-level-2);\n",
              "}\n",
              "\n",
              "#sk-container-id-3 div.sk-label label.sk-toggleable__label,\n",
              "#sk-container-id-3 div.sk-label label {\n",
              "  /* The background is the default theme color */\n",
              "  color: var(--sklearn-color-text-on-default-background);\n",
              "}\n",
              "\n",
              "/* On hover, darken the color of the background */\n",
              "#sk-container-id-3 div.sk-label:hover label.sk-toggleable__label {\n",
              "  color: var(--sklearn-color-text);\n",
              "  background-color: var(--sklearn-color-unfitted-level-2);\n",
              "}\n",
              "\n",
              "/* Label box, darken color on hover, fitted */\n",
              "#sk-container-id-3 div.sk-label.fitted:hover label.sk-toggleable__label.fitted {\n",
              "  color: var(--sklearn-color-text);\n",
              "  background-color: var(--sklearn-color-fitted-level-2);\n",
              "}\n",
              "\n",
              "/* Estimator label */\n",
              "\n",
              "#sk-container-id-3 div.sk-label label {\n",
              "  font-family: monospace;\n",
              "  font-weight: bold;\n",
              "  display: inline-block;\n",
              "  line-height: 1.2em;\n",
              "}\n",
              "\n",
              "#sk-container-id-3 div.sk-label-container {\n",
              "  text-align: center;\n",
              "}\n",
              "\n",
              "/* Estimator-specific */\n",
              "#sk-container-id-3 div.sk-estimator {\n",
              "  font-family: monospace;\n",
              "  border: 1px dotted var(--sklearn-color-border-box);\n",
              "  border-radius: 0.25em;\n",
              "  box-sizing: border-box;\n",
              "  margin-bottom: 0.5em;\n",
              "  /* unfitted */\n",
              "  background-color: var(--sklearn-color-unfitted-level-0);\n",
              "}\n",
              "\n",
              "#sk-container-id-3 div.sk-estimator.fitted {\n",
              "  /* fitted */\n",
              "  background-color: var(--sklearn-color-fitted-level-0);\n",
              "}\n",
              "\n",
              "/* on hover */\n",
              "#sk-container-id-3 div.sk-estimator:hover {\n",
              "  /* unfitted */\n",
              "  background-color: var(--sklearn-color-unfitted-level-2);\n",
              "}\n",
              "\n",
              "#sk-container-id-3 div.sk-estimator.fitted:hover {\n",
              "  /* fitted */\n",
              "  background-color: var(--sklearn-color-fitted-level-2);\n",
              "}\n",
              "\n",
              "/* Specification for estimator info (e.g. \"i\" and \"?\") */\n",
              "\n",
              "/* Common style for \"i\" and \"?\" */\n",
              "\n",
              ".sk-estimator-doc-link,\n",
              "a:link.sk-estimator-doc-link,\n",
              "a:visited.sk-estimator-doc-link {\n",
              "  float: right;\n",
              "  font-size: smaller;\n",
              "  line-height: 1em;\n",
              "  font-family: monospace;\n",
              "  background-color: var(--sklearn-color-background);\n",
              "  border-radius: 1em;\n",
              "  height: 1em;\n",
              "  width: 1em;\n",
              "  text-decoration: none !important;\n",
              "  margin-left: 1ex;\n",
              "  /* unfitted */\n",
              "  border: var(--sklearn-color-unfitted-level-1) 1pt solid;\n",
              "  color: var(--sklearn-color-unfitted-level-1);\n",
              "}\n",
              "\n",
              ".sk-estimator-doc-link.fitted,\n",
              "a:link.sk-estimator-doc-link.fitted,\n",
              "a:visited.sk-estimator-doc-link.fitted {\n",
              "  /* fitted */\n",
              "  border: var(--sklearn-color-fitted-level-1) 1pt solid;\n",
              "  color: var(--sklearn-color-fitted-level-1);\n",
              "}\n",
              "\n",
              "/* On hover */\n",
              "div.sk-estimator:hover .sk-estimator-doc-link:hover,\n",
              ".sk-estimator-doc-link:hover,\n",
              "div.sk-label-container:hover .sk-estimator-doc-link:hover,\n",
              ".sk-estimator-doc-link:hover {\n",
              "  /* unfitted */\n",
              "  background-color: var(--sklearn-color-unfitted-level-3);\n",
              "  color: var(--sklearn-color-background);\n",
              "  text-decoration: none;\n",
              "}\n",
              "\n",
              "div.sk-estimator.fitted:hover .sk-estimator-doc-link.fitted:hover,\n",
              ".sk-estimator-doc-link.fitted:hover,\n",
              "div.sk-label-container:hover .sk-estimator-doc-link.fitted:hover,\n",
              ".sk-estimator-doc-link.fitted:hover {\n",
              "  /* fitted */\n",
              "  background-color: var(--sklearn-color-fitted-level-3);\n",
              "  color: var(--sklearn-color-background);\n",
              "  text-decoration: none;\n",
              "}\n",
              "\n",
              "/* Span, style for the box shown on hovering the info icon */\n",
              ".sk-estimator-doc-link span {\n",
              "  display: none;\n",
              "  z-index: 9999;\n",
              "  position: relative;\n",
              "  font-weight: normal;\n",
              "  right: .2ex;\n",
              "  padding: .5ex;\n",
              "  margin: .5ex;\n",
              "  width: min-content;\n",
              "  min-width: 20ex;\n",
              "  max-width: 50ex;\n",
              "  color: var(--sklearn-color-text);\n",
              "  box-shadow: 2pt 2pt 4pt #999;\n",
              "  /* unfitted */\n",
              "  background: var(--sklearn-color-unfitted-level-0);\n",
              "  border: .5pt solid var(--sklearn-color-unfitted-level-3);\n",
              "}\n",
              "\n",
              ".sk-estimator-doc-link.fitted span {\n",
              "  /* fitted */\n",
              "  background: var(--sklearn-color-fitted-level-0);\n",
              "  border: var(--sklearn-color-fitted-level-3);\n",
              "}\n",
              "\n",
              ".sk-estimator-doc-link:hover span {\n",
              "  display: block;\n",
              "}\n",
              "\n",
              "/* \"?\"-specific style due to the `<a>` HTML tag */\n",
              "\n",
              "#sk-container-id-3 a.estimator_doc_link {\n",
              "  float: right;\n",
              "  font-size: 1rem;\n",
              "  line-height: 1em;\n",
              "  font-family: monospace;\n",
              "  background-color: var(--sklearn-color-background);\n",
              "  border-radius: 1rem;\n",
              "  height: 1rem;\n",
              "  width: 1rem;\n",
              "  text-decoration: none;\n",
              "  /* unfitted */\n",
              "  color: var(--sklearn-color-unfitted-level-1);\n",
              "  border: var(--sklearn-color-unfitted-level-1) 1pt solid;\n",
              "}\n",
              "\n",
              "#sk-container-id-3 a.estimator_doc_link.fitted {\n",
              "  /* fitted */\n",
              "  border: var(--sklearn-color-fitted-level-1) 1pt solid;\n",
              "  color: var(--sklearn-color-fitted-level-1);\n",
              "}\n",
              "\n",
              "/* On hover */\n",
              "#sk-container-id-3 a.estimator_doc_link:hover {\n",
              "  /* unfitted */\n",
              "  background-color: var(--sklearn-color-unfitted-level-3);\n",
              "  color: var(--sklearn-color-background);\n",
              "  text-decoration: none;\n",
              "}\n",
              "\n",
              "#sk-container-id-3 a.estimator_doc_link.fitted:hover {\n",
              "  /* fitted */\n",
              "  background-color: var(--sklearn-color-fitted-level-3);\n",
              "}\n",
              "</style><div id=\"sk-container-id-3\" class=\"sk-top-container\"><div class=\"sk-text-repr-fallback\"><pre>LinearRegression()</pre><b>In a Jupyter environment, please rerun this cell to show the HTML representation or trust the notebook. <br />On GitHub, the HTML representation is unable to render, please try loading this page with nbviewer.org.</b></div><div class=\"sk-container\" hidden><div class=\"sk-item\"><div class=\"sk-estimator fitted sk-toggleable\"><input class=\"sk-toggleable__control sk-hidden--visually\" id=\"sk-estimator-id-3\" type=\"checkbox\" checked><label for=\"sk-estimator-id-3\" class=\"sk-toggleable__label fitted sk-toggleable__label-arrow fitted\">&nbsp;&nbsp;LinearRegression<a class=\"sk-estimator-doc-link fitted\" rel=\"noreferrer\" target=\"_blank\" href=\"https://scikit-learn.org/1.5/modules/generated/sklearn.linear_model.LinearRegression.html\">?<span>Documentation for LinearRegression</span></a><span class=\"sk-estimator-doc-link fitted\">i<span>Fitted</span></span></label><div class=\"sk-toggleable__content fitted\"><pre>LinearRegression()</pre></div> </div></div></div></div>"
            ]
          },
          "metadata": {},
          "execution_count": 117
        }
      ]
    },
    {
      "cell_type": "code",
      "source": [
        "regressor.coef_"
      ],
      "metadata": {
        "colab": {
          "base_uri": "https://localhost:8080/"
        },
        "id": "MXJpG_xAdFnc",
        "outputId": "9331b14f-7369-4be0-a694-8e5a55927aee"
      },
      "execution_count": 118,
      "outputs": [
        {
          "output_type": "execute_result",
          "data": {
            "text/plain": [
              "array([0.62421668])"
            ]
          },
          "metadata": {},
          "execution_count": 118
        }
      ]
    },
    {
      "cell_type": "code",
      "source": [
        "regressor.intercept_"
      ],
      "metadata": {
        "colab": {
          "base_uri": "https://localhost:8080/"
        },
        "id": "J8wvoUk8fDZH",
        "outputId": "2703012b-8b68-429f-9317-22fc039ddac7"
      },
      "execution_count": 119,
      "outputs": [
        {
          "output_type": "execute_result",
          "data": {
            "text/plain": [
              "2.9958750000000007"
            ]
          },
          "metadata": {},
          "execution_count": 119
        }
      ]
    },
    {
      "cell_type": "code",
      "source": [
        "plt.scatter(X_train,y_train)\n",
        "plt.plot(X_train,regressor.predict(X_train),color='red')\n",
        "plt.xlabel('cgpa')\n",
        "plt.ylabel('package')"
      ],
      "metadata": {
        "colab": {
          "base_uri": "https://localhost:8080/",
          "height": 467
        },
        "id": "NT7Bj9L8fWDc",
        "outputId": "1552cb26-9f79-4281-948e-1487381bfce1"
      },
      "execution_count": 120,
      "outputs": [
        {
          "output_type": "execute_result",
          "data": {
            "text/plain": [
              "Text(0, 0.5, 'package')"
            ]
          },
          "metadata": {},
          "execution_count": 120
        },
        {
          "output_type": "display_data",
          "data": {
            "text/plain": [
              "<Figure size 640x480 with 1 Axes>"
            ],
            "image/png": "[encoded data removed]"
          },
          "metadata": {}
        }
      ]
    },
    {
      "cell_type": "markdown",
      "source": [
        "Based on the values you provided for the model's coefficients and intercept, here’s how you can write the prediction formulas:\n",
        "\n",
        "### Prediction of Train Data\n",
        "1. **Predicted Height Output (Train):**\n",
        "\n",
        "   Predicted Height (Train)=Intercept+(Coef×Weight)\n",
        "\n",
        "2. **Formula with your values:**\n",
        "\n",
        "   y\n",
        "pred_train\n",
        "​\n",
        " =2.995875+(0.62421668×Weight)\n",
        "\n",
        "### Prediction of Test Data\n",
        "1. **Predicted Height Output (Test):**\n",
        "\n",
        "   Predicted Height (Test)=Intercept+(Coef×Weight)\n",
        "2. **Formula with your values:**\n",
        "\n",
        "  y\n",
        "pred_test\n",
        "​\n",
        " =2.995875+(0.62421668×Weight)\n",
        "\n",
        "Where:\n",
        "- **Intercept** = 2.995875\n",
        "- **Coef** = 0.62421668\n",
        "- **Weight** refers to the specific input value (feature) used for the prediction.\n",
        "\n",
        "For both training and testing, the formula structure is the same, but the input weight (feature value) will vary based on the dataset being used (train or test)."
      ],
      "metadata": {
        "id": "FcspBssNhBI3"
      }
    },
    {
      "cell_type": "code",
      "source": [
        "Y_pred_test=regressor.predict(X_test)"
      ],
      "metadata": {
        "id": "fsjF9g4GhCVU"
      },
      "execution_count": 121,
      "outputs": []
    },
    {
      "cell_type": "code",
      "source": [
        "Y_pred_test"
      ],
      "metadata": {
        "colab": {
          "base_uri": "https://localhost:8080/"
        },
        "id": "QyFIuLFWh8FG",
        "outputId": "18d85146-0db8-492b-dfbe-066a4239a41d"
      },
      "execution_count": 122,
      "outputs": [
        {
          "output_type": "execute_result",
          "data": {
            "text/plain": [
              "array([2.78031348, 3.13635249, 3.1995207 , 2.38981908, 3.52684689,\n",
              "       3.76803461, 3.16506531, 2.54486832, 3.17655044, 3.4923915 ,\n",
              "       1.90744364, 2.34962112, 3.6876387 , 2.75734322, 3.47516381,\n",
              "       3.04447145, 2.32665086, 3.20526327, 2.17734418, 3.314372  ,\n",
              "       2.45298729, 2.90090734, 3.32011456, 2.87219451, 3.33734226,\n",
              "       2.19457187, 1.41932564, 2.7114027 , 3.18229301, 2.32665086,\n",
              "       3.74506435, 2.95833298, 3.68189614, 2.97556068, 2.59080884,\n",
              "       3.34882738, 2.47595755, 3.07318428, 4.17575671, 2.95833298])"
            ]
          },
          "metadata": {},
          "execution_count": 122
        }
      ]
    },
    {
      "cell_type": "code",
      "source": [
        "y_test"
      ],
      "metadata": {
        "colab": {
          "base_uri": "https://localhost:8080/",
          "height": 1000
        },
        "id": "eBiUXAPXiBjq",
        "outputId": "b8e41828-b72d-4110-821a-3dd720cb47d0"
      },
      "execution_count": 123,
      "outputs": [
        {
          "output_type": "execute_result",
          "data": {
            "text/plain": [
              "95     2.79\n",
              "15     3.23\n",
              "30     3.26\n",
              "158    3.04\n",
              "128    3.34\n",
              "115    4.21\n",
              "69     2.94\n",
              "170    2.87\n",
              "174    2.99\n",
              "45     3.58\n",
              "66     1.63\n",
              "182    2.08\n",
              "165    4.08\n",
              "78     2.21\n",
              "186    3.47\n",
              "177    3.64\n",
              "56     2.74\n",
              "152    3.08\n",
              "82     2.17\n",
              "68     2.99\n",
              "124    2.31\n",
              "16     2.35\n",
              "148    3.40\n",
              "93     3.08\n",
              "65     3.81\n",
              "60     2.19\n",
              "84     1.53\n",
              "67     2.89\n",
              "125    3.16\n",
              "132    2.48\n",
              "9      3.51\n",
              "18     2.98\n",
              "55     3.39\n",
              "75     3.28\n",
              "150    2.73\n",
              "104    3.74\n",
              "135    2.60\n",
              "137    3.13\n",
              "164    3.82\n",
              "76     3.15\n",
              "Name: package, dtype: float64"
            ],
            "text/html": [
              "<div>\n",
              "<style scoped>\n",
              "    .dataframe tbody tr th:only-of-type {\n",
              "        vertical-align: middle;\n",
              "    }\n",
              "\n",
              "    .dataframe tbody tr th {\n",
              "        vertical-align: top;\n",
              "    }\n",
              "\n",
              "    .dataframe thead th {\n",
              "        text-align: right;\n",
              "    }\n",
              "</style>\n",
              "<table border=\"1\" class=\"dataframe\">\n",
              "  <thead>\n",
              "    <tr style=\"text-align: right;\">\n",
              "      <th></th>\n",
              "      <th>package</th>\n",
              "    </tr>\n",
              "  </thead>\n",
              "  <tbody>\n",
              "    <tr>\n",
              "      <th>95</th>\n",
              "      <td>2.79</td>\n",
              "    </tr>\n",
              "    <tr>\n",
              "      <th>15</th>\n",
              "      <td>3.23</td>\n",
              "    </tr>\n",
              "    <tr>\n",
              "      <th>30</th>\n",
              "      <td>3.26</td>\n",
              "    </tr>\n",
              "    <tr>\n",
              "      <th>158</th>\n",
              "      <td>3.04</td>\n",
              "    </tr>\n",
              "    <tr>\n",
              "      <th>128</th>\n",
              "      <td>3.34</td>\n",
              "    </tr>\n",
              "    <tr>\n",
              "      <th>115</th>\n",
              "      <td>4.21</td>\n",
              "    </tr>\n",
              "    <tr>\n",
              "      <th>69</th>\n",
              "      <td>2.94</td>\n",
              "    </tr>\n",
              "    <tr>\n",
              "      <th>170</th>\n",
              "      <td>2.87</td>\n",
              "    </tr>\n",
              "    <tr>\n",
              "      <th>174</th>\n",
              "      <td>2.99</td>\n",
              "    </tr>\n",
              "    <tr>\n",
              "      <th>45</th>\n",
              "      <td>3.58</td>\n",
              "    </tr>\n",
              "    <tr>\n",
              "      <th>66</th>\n",
              "      <td>1.63</td>\n",
              "    </tr>\n",
              "    <tr>\n",
              "      <th>182</th>\n",
              "      <td>2.08</td>\n",
              "    </tr>\n",
              "    <tr>\n",
              "      <th>165</th>\n",
              "      <td>4.08</td>\n",
              "    </tr>\n",
              "    <tr>\n",
              "      <th>78</th>\n",
              "      <td>2.21</td>\n",
              "    </tr>\n",
              "    <tr>\n",
              "      <th>186</th>\n",
              "      <td>3.47</td>\n",
              "    </tr>\n",
              "    <tr>\n",
              "      <th>177</th>\n",
              "      <td>3.64</td>\n",
              "    </tr>\n",
              "    <tr>\n",
              "      <th>56</th>\n",
              "      <td>2.74</td>\n",
              "    </tr>\n",
              "    <tr>\n",
              "      <th>152</th>\n",
              "      <td>3.08</td>\n",
              "    </tr>\n",
              "    <tr>\n",
              "      <th>82</th>\n",
              "      <td>2.17</td>\n",
              "    </tr>\n",
              "    <tr>\n",
              "      <th>68</th>\n",
              "      <td>2.99</td>\n",
              "    </tr>\n",
              "    <tr>\n",
              "      <th>124</th>\n",
              "      <td>2.31</td>\n",
              "    </tr>\n",
              "    <tr>\n",
              "      <th>16</th>\n",
              "      <td>2.35</td>\n",
              "    </tr>\n",
              "    <tr>\n",
              "      <th>148</th>\n",
              "      <td>3.40</td>\n",
              "    </tr>\n",
              "    <tr>\n",
              "      <th>93</th>\n",
              "      <td>3.08</td>\n",
              "    </tr>\n",
              "    <tr>\n",
              "      <th>65</th>\n",
              "      <td>3.81</td>\n",
              "    </tr>\n",
              "    <tr>\n",
              "      <th>60</th>\n",
              "      <td>2.19</td>\n",
              "    </tr>\n",
              "    <tr>\n",
              "      <th>84</th>\n",
              "      <td>1.53</td>\n",
              "    </tr>\n",
              "    <tr>\n",
              "      <th>67</th>\n",
              "      <td>2.89</td>\n",
              "    </tr>\n",
              "    <tr>\n",
              "      <th>125</th>\n",
              "      <td>3.16</td>\n",
              "    </tr>\n",
              "    <tr>\n",
              "      <th>132</th>\n",
              "      <td>2.48</td>\n",
              "    </tr>\n",
              "    <tr>\n",
              "      <th>9</th>\n",
              "      <td>3.51</td>\n",
              "    </tr>\n",
              "    <tr>\n",
              "      <th>18</th>\n",
              "      <td>2.98</td>\n",
              "    </tr>\n",
              "    <tr>\n",
              "      <th>55</th>\n",
              "      <td>3.39</td>\n",
              "    </tr>\n",
              "    <tr>\n",
              "      <th>75</th>\n",
              "      <td>3.28</td>\n",
              "    </tr>\n",
              "    <tr>\n",
              "      <th>150</th>\n",
              "      <td>2.73</td>\n",
              "    </tr>\n",
              "    <tr>\n",
              "      <th>104</th>\n",
              "      <td>3.74</td>\n",
              "    </tr>\n",
              "    <tr>\n",
              "      <th>135</th>\n",
              "      <td>2.60</td>\n",
              "    </tr>\n",
              "    <tr>\n",
              "      <th>137</th>\n",
              "      <td>3.13</td>\n",
              "    </tr>\n",
              "    <tr>\n",
              "      <th>164</th>\n",
              "      <td>3.82</td>\n",
              "    </tr>\n",
              "    <tr>\n",
              "      <th>76</th>\n",
              "      <td>3.15</td>\n",
              "    </tr>\n",
              "  </tbody>\n",
              "</table>\n",
              "</div><br><label><b>dtype:</b> float64</label>"
            ]
          },
          "metadata": {},
          "execution_count": 123
        }
      ]
    },
    {
      "cell_type": "markdown",
      "source": [
        "# **Performance Matrics**"
      ],
      "metadata": {
        "id": "yiax6eeGiPic"
      }
    },
    {
      "cell_type": "code",
      "source": [
        "from sklearn.metrics import mean_squared_error,mean_absolute_error\n"
      ],
      "metadata": {
        "id": "pFJicGfHiSdf"
      },
      "execution_count": 124,
      "outputs": []
    },
    {
      "cell_type": "code",
      "source": [
        "mse=mean_squared_error(y_test,Y_pred_test)\n",
        "mse"
      ],
      "metadata": {
        "colab": {
          "base_uri": "https://localhost:8080/"
        },
        "id": "qq4iUuZkir6E",
        "outputId": "581924a6-4d45-46f1-cdc8-9b11a070f7d8"
      },
      "execution_count": 125,
      "outputs": [
        {
          "output_type": "execute_result",
          "data": {
            "text/plain": [
              "0.08417638361329657"
            ]
          },
          "metadata": {},
          "execution_count": 125
        }
      ]
    },
    {
      "cell_type": "code",
      "source": [
        "mae=mean_absolute_error(y_test,Y_pred_test)\n",
        "mae"
      ],
      "metadata": {
        "colab": {
          "base_uri": "https://localhost:8080/"
        },
        "id": "tz8grCo0ixh0",
        "outputId": "37cf27a3-dd76-4c73-ccda-0423d10c2a37"
      },
      "execution_count": 126,
      "outputs": [
        {
          "output_type": "execute_result",
          "data": {
            "text/plain": [
              "0.23150985393278373"
            ]
          },
          "metadata": {},
          "execution_count": 126
        }
      ]
    },
    {
      "cell_type": "code",
      "source": [
        "rmse=np.sqrt(mse)\n",
        "rmse"
      ],
      "metadata": {
        "colab": {
          "base_uri": "https://localhost:8080/"
        },
        "id": "vqv4DVzpizrQ",
        "outputId": "8da7bbb2-240d-45b6-8d7a-acacc145e02a"
      },
      "execution_count": 127,
      "outputs": [
        {
          "output_type": "execute_result",
          "data": {
            "text/plain": [
              "0.2901316659954521"
            ]
          },
          "metadata": {},
          "execution_count": 127
        }
      ]
    },
    {
      "cell_type": "code",
      "source": [],
      "metadata": {
        "id": "O3lbl2bci66x"
      },
      "execution_count": 127,
      "outputs": []
    },
    {
      "cell_type": "markdown",
      "source": [
        "## Accuracy of the model R squared and Adjusted r ssquared"
      ],
      "metadata": {
        "id": "k47G0Qwjj_yh"
      }
    },
    {
      "cell_type": "code",
      "source": [
        "from sklearn.metrics import r2_score\n",
        "score=r2_score(y_test,Y_pred_test)\n",
        "score"
      ],
      "metadata": {
        "colab": {
          "base_uri": "https://localhost:8080/"
        },
        "id": "BykHIH-okCVt",
        "outputId": "1d6a4ca7-80f6-4b89-e20f-8a67ced3e3ed"
      },
      "execution_count": 128,
      "outputs": [
        {
          "output_type": "execute_result",
          "data": {
            "text/plain": [
              "0.7730984312051673"
            ]
          },
          "metadata": {},
          "execution_count": 128
        }
      ]
    },
    {
      "cell_type": "markdown",
      "source": [
        "![image.png](data:image/png;base64,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)"
      ],
      "metadata": {
        "id": "LT9wzErzkrnT"
      }
    },
    {
      "cell_type": "code",
      "source": [
        "adjusted_r_squared=1-(1-score)*(len(y_test)-1)/(len(y_test)-X_test.shape[1]-1)\n",
        "adjusted_r_squared"
      ],
      "metadata": {
        "colab": {
          "base_uri": "https://localhost:8080/"
        },
        "id": "hH4zRi4nkOvh",
        "outputId": "9b46134f-a601-4f06-c449-97d7d3de9312"
      },
      "execution_count": 129,
      "outputs": [
        {
          "output_type": "execute_result",
          "data": {
            "text/plain": [
              "0.7671273372895138"
            ]
          },
          "metadata": {},
          "execution_count": 129
        }
      ]
    }
  ]
}