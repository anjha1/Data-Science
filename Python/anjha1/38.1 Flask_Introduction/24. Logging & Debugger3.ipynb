{
 "cells": [
  {
   "cell_type": "code",
   "execution_count": 1,
   "metadata": {},
   "outputs": [],
   "source": [
    "import logging"
   ]
  },
  {
   "cell_type": "code",
   "execution_count": 2,
   "metadata": {},
   "outputs": [],
   "source": [
    "# Configure logging\n",
    "logging.basicConfig(\n",
    "    filename=\"anjha3.log\",\n",
    "    level=logging.DEBUG,\n",
    "    format=\"%(asctime)s - %(levelname)s - %(message)s\"\n",
    ")"
   ]
  },
  {
   "cell_type": "code",
   "execution_count": 3,
   "metadata": {},
   "outputs": [],
   "source": [
    "l = [1, 2, 3, 4, 5, [7,9,33], \"an\", \"jha\"]"
   ]
  },
  {
   "cell_type": "code",
   "execution_count": 4,
   "metadata": {},
   "outputs": [],
   "source": [
    "l1_int = []\n",
    "l2_str = []\n",
    "\n",
    "# Iterate through the list\n",
    "for i in l:\n",
    "    logging.info(\"Iterating through the list, current element: %s\", str(i))\n",
    "    \n",
    "    if isinstance(i, list):\n",
    "        logging.info(\"Element is a list: %s\", str(i))\n",
    "        for j in i:\n",
    "            logging.info(\"Iterating through nested list, current element: %s\", str(j))\n",
    "            if isinstance(j, int):\n",
    "                logging.info(\"Nested element is an integer: %s\", str(j))\n",
    "                l1_int.append(j)\n",
    "    elif isinstance(i, int):\n",
    "        logging.info(\"Element is an integer: %s\", str(i))\n",
    "        l1_int.append(i)\n",
    "    elif isinstance(i, str):\n",
    "        logging.info(\"Element is a string: %s\", str(i))\n",
    "        l2_str.append(i)\n",
    "\n"
   ]
  },
  {
   "cell_type": "code",
   "execution_count": 5,
   "metadata": {},
   "outputs": [],
   "source": [
    "logging.info(f\"my final result is for integer is {l1_int} and for String is {l2_str} \")"
   ]
  },
  {
   "cell_type": "code",
   "execution_count": 6,
   "metadata": {},
   "outputs": [
    {
     "name": "stdout",
     "output_type": "stream",
     "text": [
      "List of integers: [1, 2, 3, 4, 5, 7, 9, 33]\n"
     ]
    }
   ],
   "source": [
    "print(\"List of integers:\", l1_int)"
   ]
  },
  {
   "cell_type": "code",
   "execution_count": 7,
   "metadata": {},
   "outputs": [
    {
     "name": "stdout",
     "output_type": "stream",
     "text": [
      "List of strings: ['an', 'jha']\n"
     ]
    }
   ],
   "source": [
    "print(\"List of strings:\", l2_str)"
   ]
  },
  {
   "cell_type": "code",
   "execution_count": 2,
   "metadata": {},
   "outputs": [],
   "source": [
    "import logging\n",
    "# Configure logging\n",
    "logging.basicConfig(\n",
    "    filename=\"anjha3.log\",\n",
    "    level=logging.DEBUG,\n",
    "    format=\"%(asctime)s - %(levelname)s - %(message)s\"\n",
    ")\n",
    "l = [1, 2, 3, 4, 5, [7,9,33], \"an\", \"jha\"]\n",
    "l1_int = []\n",
    "l2_str = []\n",
    "\n",
    "# Iterate through the list\n",
    "for i in l:\n",
    "    logging.info(\"Iterating through the list, current element: %s\", str(i))\n",
    "    \n",
    "    if isinstance(i, list):\n",
    "        logging.info(\"Element is a list: %s\", str(i))\n",
    "        for j in i:\n",
    "            logging.info(\"Iterating through nested list, current element: %s\", str(j))\n",
    "            if isinstance(j, int):\n",
    "                logging.info(\"Nested element is an integer: %s\", str(j))\n",
    "                l1_int.append(j)\n",
    "    elif isinstance(i, int):\n",
    "        logging.info(\"Element is an integer: %s\", str(i))\n",
    "        l1_int.append(i)\n",
    "    elif isinstance(i, str):\n",
    "        logging.info(\"Element is a string: %s\", str(i))\n",
    "        l2_str.append(i)\n",
    "\n",
    "logging.info(f\"my final result is for integer is {l1_int} and for String is {l2_str} \")"
   ]
  }
 ],
 "metadata": {
  "kernelspec": {
   "display_name": "base",
   "language": "python",
   "name": "python3"
  },
  "language_info": {
   "codemirror_mode": {
    "name": "ipython",
    "version": 3
   },
   "file_extension": ".py",
   "mimetype": "text/x-python",
   "name": "python",
   "nbconvert_exporter": "python",
   "pygments_lexer": "ipython3",
   "version": "3.11.7"
  }
 },
 "nbformat": 4,
 "nbformat_minor": 2
}
