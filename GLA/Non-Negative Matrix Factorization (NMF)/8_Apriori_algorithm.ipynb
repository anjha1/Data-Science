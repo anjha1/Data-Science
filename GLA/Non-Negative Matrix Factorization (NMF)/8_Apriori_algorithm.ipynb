{
  "nbformat": 4,
  "nbformat_minor": 0,
  "metadata": {
    "colab": {
      "provenance": [],
      "authorship_tag": "ABX9TyP0YXqRVDK4fbKcQRs9e207",
      "include_colab_link": true
    },
    "kernelspec": {
      "name": "python3",
      "display_name": "Python 3"
    },
    "language_info": {
      "name": "python"
    }
  },
  "cells": [
    {
      "cell_type": "markdown",
      "metadata": {
        "id": "view-in-github",
        "colab_type": "text"
      },
      "source": [
        "<a href=\"https://colab.research.google.com/github/anjha1/Data-Science/blob/main/GLA/Non-Negative%20Matrix%20Factorization%20(NMF)/8_Apriori_algorithm.ipynb\" target=\"_parent\"><img src=\"https://colab.research.google.com/assets/colab-badge.svg\" alt=\"Open In Colab\"/></a>"
      ]
    },
    {
      "cell_type": "code",
      "source": [
        "from itertools import combinations\n",
        "\n",
        "# Sample Dataset (Transactions)\n",
        "DATASET = (\n",
        "    ('Milk', 'Bread', 'Butter'),\n",
        "    ('Milk', 'Bread'),\n",
        "    ('Bread', 'Butter'),\n",
        "    ('Milk', 'Butter'),\n",
        "    ('Milk', 'Bread', 'Butter')\n",
        ")\n",
        "\n",
        "# Minimum Support and Confidence thresholds\n",
        "MIN_SUPPORT = 2\n",
        "MIN_CONFIDENCE = 50.0\n",
        "\n",
        "# Step 1: Generate C1 (frequent 1-itemsets)\n",
        "c1 = dict()\n",
        "for itemset in DATASET:\n",
        "    for item in itemset:\n",
        "        c1[item] = c1.get(item, 0) + 1\n",
        "\n",
        "# Remove items not meeting minimum support\n",
        "for item in list(c1):\n",
        "    if c1[item] < MIN_SUPPORT:\n",
        "        del c1[item]\n",
        "\n",
        "# Store frequent items\n",
        "items = list(c1.keys())\n",
        "support = [c1]  # support[0] contains frequent 1-itemsets\n",
        "\n",
        "# Step 2: Generate frequent itemsets (C2, C3, ...) until no more sets\n",
        "for i in range(2, len(items)):\n",
        "    s = dict()\n",
        "    for combo in combinations(items, i):\n",
        "        for itemset in DATASET:\n",
        "            if set(combo).issubset(itemset):\n",
        "                s[combo] = s.get(combo, 0) + 1\n",
        "        # Remove infrequent itemsets\n",
        "        if s.get(combo) and s[combo] < MIN_SUPPORT:\n",
        "            del s[combo]\n",
        "    if not s:\n",
        "        break\n",
        "    support.append(s)\n",
        "\n",
        "# Print frequent itemsets\n",
        "print(support)\n",
        "\n",
        "# Step 3: Generate association rules from the last frequent itemsets\n",
        "rules = dict()\n",
        "for combo in support[-1]:\n",
        "    for item in combo:\n",
        "        c = list(combo)\n",
        "        c.remove(item)\n",
        "        len_c = len(c)\n",
        "        c = c[0] if len_c == 1 else tuple(c)\n",
        "\n",
        "        # Confidence = support(X ∪ Y) / support(X)\n",
        "        rule_1 = support[-1][combo] / support[0][item] * 100\n",
        "        rule_2 = support[-1][combo] / support[len_c - 1][c] * 100\n",
        "\n",
        "        if rule_1 >= MIN_CONFIDENCE:\n",
        "            rules[f\"{item} -> {c}\"] = rule_1\n",
        "        if rule_2 >= MIN_CONFIDENCE:\n",
        "            rules[f\"{c} -> {item}\"] = rule_2\n",
        "\n",
        "# Print rules\n",
        "print(rules)\n"
      ],
      "metadata": {
        "colab": {
          "base_uri": "https://localhost:8080/"
        },
        "id": "AppcXu8qfj9f",
        "outputId": "386e9226-fe1d-40ed-d82a-2bc60015768c"
      },
      "execution_count": 6,
      "outputs": [
        {
          "output_type": "stream",
          "name": "stdout",
          "text": [
            "[{'Milk': 4, 'Bread': 4, 'Butter': 4}, {('Milk', 'Bread'): 3, ('Milk', 'Butter'): 3, ('Bread', 'Butter'): 3}]\n",
            "{'Milk -> Bread': 75.0, 'Bread -> Milk': 75.0, 'Milk -> Butter': 75.0, 'Butter -> Milk': 75.0, 'Bread -> Butter': 75.0, 'Butter -> Bread': 75.0}\n"
          ]
        }
      ]
    }
  ]
}