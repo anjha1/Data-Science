{
  "nbformat": 4,
  "nbformat_minor": 0,
  "metadata": {
    "colab": {
      "provenance": [],
      "authorship_tag": "ABX9TyOBM3mNeMBAECJr3V1Vptjm",
      "include_colab_link": true
    },
    "kernelspec": {
      "name": "python3",
      "display_name": "Python 3"
    },
    "language_info": {
      "name": "python"
    }
  },
  "cells": [
    {
      "cell_type": "markdown",
      "metadata": {
        "id": "view-in-github",
        "colab_type": "text"
      },
      "source": [
        "<a href=\"https://colab.research.google.com/github/anjha1/Data-Science/blob/main/GLA/Non-Negative%20Matrix%20Factorization%20(NMF)/9_and_10_FP_Growth_Algorithm.ipynb\" target=\"_parent\"><img src=\"https://colab.research.google.com/assets/colab-badge.svg\" alt=\"Open In Colab\"/></a>"
      ]
    },
    {
      "cell_type": "markdown",
      "source": [
        "**Objective: Generate frequent itemsets from transaction data using the FP-Growth algorithm.**"
      ],
      "metadata": {
        "id": "f67lHSiAfgL5"
      }
    },
    {
      "cell_type": "code",
      "source": [
        "import pandas as pd\n",
        "from mlxtend.frequent_patterns import fpgrowth"
      ],
      "metadata": {
        "id": "CwwrJoCtjs2i"
      },
      "execution_count": 5,
      "outputs": []
    },
    {
      "cell_type": "code",
      "source": [
        "# Step 1: Sample transaction dataset\n",
        "# Each transaction contains a list of purchased items\n",
        "data = pd.DataFrame({\n",
        "    'Transaction': ['T1', 'T2', 'T3', 'T4', 'T5'],\n",
        "    'Items': [['A', 'B', 'D'],\n",
        "              ['B', 'C', 'E'],\n",
        "              ['A', 'B', 'D', 'E'],\n",
        "              ['A', 'E'],\n",
        "              ['A', 'B', 'C', 'E']]\n",
        "})"
      ],
      "metadata": {
        "id": "mGON86Ioj0My"
      },
      "execution_count": 7,
      "outputs": []
    },
    {
      "cell_type": "code",
      "source": [
        "# Step 2: Convert item lists into one-hot encoded format\n",
        "# This format is required by the FP-Growth algorithm\n",
        "one_hot = data['Items'].str.join('|').str.get_dummies()"
      ],
      "metadata": {
        "id": "LBByoflckIX6"
      },
      "execution_count": 8,
      "outputs": []
    },
    {
      "cell_type": "code",
      "source": [
        "# Step 3: Generate frequent itemsets using FP-Growth\n",
        "# Minimum support is set to 0.4 (i.e., 40% of transactions)\n",
        "frequent_itemsets = fpgrowth(one_hot, min_support=0.4, use_colnames=True)"
      ],
      "metadata": {
        "colab": {
          "base_uri": "https://localhost:8080/"
        },
        "id": "4h_kHx1TkKU3",
        "outputId": "6a18e2fe-bd97-4e01-9e81-d3ae0df24bb1"
      },
      "execution_count": 9,
      "outputs": [
        {
          "output_type": "stream",
          "name": "stderr",
          "text": [
            "/usr/local/lib/python3.11/dist-packages/mlxtend/frequent_patterns/fpcommon.py:161: DeprecationWarning: DataFrames with non-bool types result in worse computationalperformance and their support might be discontinued in the future.Please use a DataFrame with bool type\n",
            "  warnings.warn(\n"
          ]
        }
      ]
    },
    {
      "cell_type": "code",
      "source": [
        "# Step 4: Display the resulting frequent itemsets\n",
        "print(frequent_itemsets)\n"
      ],
      "metadata": {
        "colab": {
          "base_uri": "https://localhost:8080/"
        },
        "id": "pTdbWp9MkMYQ",
        "outputId": "5c04f5e4-8ed6-4e61-cb62-19df2b544b78"
      },
      "execution_count": 10,
      "outputs": [
        {
          "output_type": "stream",
          "name": "stdout",
          "text": [
            "    support   itemsets\n",
            "0       0.8        (A)\n",
            "1       0.8        (B)\n",
            "2       0.4        (D)\n",
            "3       0.8        (E)\n",
            "4       0.4        (C)\n",
            "5       0.6     (E, A)\n",
            "6       0.6     (B, A)\n",
            "7       0.6     (B, E)\n",
            "8       0.4  (B, E, A)\n",
            "9       0.4     (B, D)\n",
            "10      0.4     (D, A)\n",
            "11      0.4  (B, D, A)\n",
            "12      0.4     (C, B)\n",
            "13      0.4     (C, E)\n",
            "14      0.4  (C, B, E)\n"
          ]
        }
      ]
    },
    {
      "cell_type": "markdown",
      "source": [
        "**10. Recommender System using Collaborative Filtering**"
      ],
      "metadata": {
        "id": "zdCUA7lQfsf6"
      }
    },
    {
      "cell_type": "markdown",
      "source": [
        "Objective: Find users with similar movie preferences using distance metrics (Euclidean and Cosine)"
      ],
      "metadata": {
        "id": "LOLd4_9CfzYd"
      }
    },
    {
      "cell_type": "markdown",
      "source": [
        " Code for Similarity Using Euclidean Distance"
      ],
      "metadata": {
        "id": "fh5Chl0igFY8"
      }
    },
    {
      "cell_type": "code",
      "source": [
        "from scipy import spatial\n",
        "\n",
        "# User ratings for two movies\n",
        "a = [1, 2]\n",
        "b = [2, 4]\n",
        "c = [2.5, 4]\n",
        "d = [4.5, 5]\n",
        "\n",
        "# Calculate Euclidean distances between user C and others\n",
        "print(spatial.distance.euclidean(c, a))  # Distance between C and A\n",
        "print(spatial.distance.euclidean(c, b))  # Distance between C and B\n",
        "print(spatial.distance.euclidean(c, d))  # Distance between C and D\n"
      ],
      "metadata": {
        "colab": {
          "base_uri": "https://localhost:8080/"
        },
        "id": "BsjjQ9wyfr9D",
        "outputId": "0ea45eb8-68c5-4218-dc8c-dec89e05d61f"
      },
      "execution_count": 2,
      "outputs": [
        {
          "output_type": "stream",
          "name": "stdout",
          "text": [
            "2.5\n",
            "0.5\n",
            "2.23606797749979\n"
          ]
        }
      ]
    },
    {
      "cell_type": "markdown",
      "source": [
        "Code for Similarity Using Cosine Distance"
      ],
      "metadata": {
        "id": "0LDtJ429gKQA"
      }
    },
    {
      "cell_type": "code",
      "source": [
        "from scipy import spatial\n",
        "\n",
        "# Same user ratings\n",
        "a = [1, 2]\n",
        "b = [2, 4]\n",
        "c = [2.5, 4]\n",
        "d = [4.5, 5]\n",
        "\n",
        "# Calculate Cosine distances between C and others\n",
        "print(spatial.distance.cosine(c, a))  # C vs A\n",
        "print(spatial.distance.cosine(c, b))  # C vs B\n",
        "print(spatial.distance.cosine(c, d))  # C vs D\n",
        "print(spatial.distance.cosine(a, b))  # A vs B\n"
      ],
      "metadata": {
        "colab": {
          "base_uri": "https://localhost:8080/"
        },
        "id": "rmaH7VI8gAo7",
        "outputId": "b3fe7b70-cd50-4792-8257-2f035d1cb441"
      },
      "execution_count": 3,
      "outputs": [
        {
          "output_type": "stream",
          "name": "stdout",
          "text": [
            "0.004504527406047898\n",
            "0.004504527406047898\n",
            "0.015137225946083022\n",
            "0.0\n"
          ]
        }
      ]
    },
    {
      "cell_type": "markdown",
      "source": [
        "**Interpretation:**\n",
        "Cosine distance suggests that C is equally close to A and B, and much farther from D.\n",
        "Interestingly, A and B have zero cosine distance, meaning they are directionally identical in preferences.\n",
        "\n"
      ],
      "metadata": {
        "id": "N_8g_iMXgTc3"
      }
    },
    {
      "cell_type": "markdown",
      "source": [
        "**Euclidean Distance** considers absolute rating values.\n",
        "\n",
        "**Cosine Distance** focuses on the angle (preference pattern).\n",
        "\n",
        "For recommender systems, cosine similarity is often preferred when rating scales vary among users."
      ],
      "metadata": {
        "id": "h-vnhhvdgcGS"
      }
    }
  ]
}